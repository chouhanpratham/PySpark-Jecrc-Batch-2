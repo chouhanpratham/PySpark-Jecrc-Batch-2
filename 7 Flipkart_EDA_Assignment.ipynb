{
 "cells": [
  {
   "cell_type": "markdown",
   "metadata": {
    "application/vnd.databricks.v1+cell": {
     "cellMetadata": {
      "byteLimit": 2048000,
      "rowLimit": 10000
     },
     "inputWidgets": {},
     "nuid": "ff039c57-72fa-4f8a-9d6b-98a8b631bc65",
     "showTitle": false,
     "tableResultSettingsMap": {},
     "title": ""
    }
   },
   "source": [
    "# Flipkart EDA assignment\n",
    "\n",
    "## TODO: Upload csv file before moving to next"
   ]
  },
  {
   "cell_type": "code",
   "execution_count": 0,
   "metadata": {
    "application/vnd.databricks.v1+cell": {
     "cellMetadata": {
      "byteLimit": 2048000,
      "rowLimit": 10000
     },
     "inputWidgets": {},
     "nuid": "f85ef81f-2729-4c6f-9e71-f6bc1b6a2e16",
     "showTitle": false,
     "tableResultSettingsMap": {},
     "title": ""
    }
   },
   "outputs": [],
   "source": [
    "from pyspark.sql import SparkSession\n",
    "\n",
    "spark = SparkSession.builder.appName(\"Flipkart Data Engineering\").getOrCreate()\n",
    "file_path = '/FileStore/tables/Flipkart.csv'\n",
    "flipkart_df = spark.read.csv(file_path, header=True, inferSchema=True)"
   ]
  },
  {
   "cell_type": "code",
   "execution_count": 0,
   "metadata": {
    "application/vnd.databricks.v1+cell": {
     "cellMetadata": {
      "byteLimit": 2048000,
      "rowLimit": 10000
     },
     "inputWidgets": {},
     "nuid": "04e1f417-47f7-4c0f-9705-565eda51063a",
     "showTitle": false,
     "tableResultSettingsMap": {},
     "title": ""
    }
   },
   "outputs": [
    {
     "output_type": "stream",
     "name": "stdout",
     "output_type": "stream",
     "text": [
      "root\n |-- id: integer (nullable = true)\n |-- title: string (nullable = true)\n |-- Rating: double (nullable = true)\n |-- maincateg: string (nullable = true)\n |-- platform: string (nullable = true)\n |-- actprice1: integer (nullable = true)\n |-- norating1: integer (nullable = true)\n |-- noreviews1: integer (nullable = true)\n |-- star_5f: integer (nullable = true)\n |-- star_4f: integer (nullable = true)\n |-- star_3f: integer (nullable = true)\n |-- star_2f: integer (nullable = true)\n |-- star_1f: integer (nullable = true)\n |-- fulfilled1: integer (nullable = true)\n\nOut[2]: 5244"
     ]
    }
   ],
   "source": [
    "flipkart_df.printSchema()\n",
    "flipkart_df.count()"
   ]
  },
  {
   "cell_type": "code",
   "execution_count": 0,
   "metadata": {
    "application/vnd.databricks.v1+cell": {
     "cellMetadata": {
      "byteLimit": 2048000,
      "rowLimit": 10000
     },
     "inputWidgets": {},
     "nuid": "da7dcb8e-203d-406c-85ba-35260e705574",
     "showTitle": false,
     "tableResultSettingsMap": {},
     "title": ""
    }
   },
   "outputs": [
    {
     "output_type": "stream",
     "name": "stdout",
     "output_type": "stream",
     "text": [
      "+-----+--------------------+------+---------+--------+---------+---------+----------+-------+-------+-------+-------+-------+----------+\n|   id|               title|Rating|maincateg|platform|actprice1|norating1|noreviews1|star_5f|star_4f|star_3f|star_2f|star_1f|fulfilled1|\n+-----+--------------------+------+---------+--------+---------+---------+----------+-------+-------+-------+-------+-------+----------+\n| 2242|Casuals For Men  ...|   3.8|      Men|Flipkart|      999|    27928|      3543|  14238|   4295|   3457|   1962|   3976|         1|\n|20532|Women Black Flats...|   3.9|    Women|Flipkart|      499|     3015|       404|   1458|    657|    397|    182|    321|         1|\n|10648|Women Gold Wedges...|   3.9|    Women|Flipkart|      999|      449|        52|    229|     70|     71|     33|     46|         1|\n|20677|Men's Height Incr...|   3.9|      Men|Flipkart|     2999|      290|        40|    141|     51|     49|     17|     32|         1|\n|12593|Loafers For Men  ...|   3.9|      Men|Flipkart|      999|     2423|       326|   1265|    414|    293|    143|    308|         0|\n+-----+--------------------+------+---------+--------+---------+---------+----------+-------+-------+-------+-------+-------+----------+\nonly showing top 5 rows\n\n"
     ]
    }
   ],
   "source": [
    "flipkart_df.show(5)"
   ]
  },
  {
   "cell_type": "markdown",
   "metadata": {
    "application/vnd.databricks.v1+cell": {
     "cellMetadata": {
      "byteLimit": 2048000,
      "rowLimit": 10000
     },
     "inputWidgets": {},
     "nuid": "081f82e7-1600-4a4e-b03a-fbd7503b0cbc",
     "showTitle": false,
     "tableResultSettingsMap": {},
     "title": ""
    }
   },
   "source": []
  },
  {
   "cell_type": "code",
   "execution_count": 0,
   "metadata": {
    "application/vnd.databricks.v1+cell": {
     "cellMetadata": {
      "byteLimit": 2048000,
      "rowLimit": 10000
     },
     "inputWidgets": {},
     "nuid": "073d6b31-c900-41a6-aa3f-ae38495448b8",
     "showTitle": true,
     "tableResultSettingsMap": {},
     "title": "# Display all category names"
    }
   },
   "outputs": [
    {
     "output_type": "stream",
     "name": "stdout",
     "output_type": "stream",
     "text": [
      "+---------+\n|maincateg|\n+---------+\n|     null|\n|      Men|\n|    Women|\n+---------+\n\n"
     ]
    }
   ],
   "source": [
    "# Display all category names \n",
    "flipkart_df.select('maincateg').distinct().show()  "
   ]
  },
  {
   "cell_type": "code",
   "execution_count": 0,
   "metadata": {
    "application/vnd.databricks.v1+cell": {
     "cellMetadata": {
      "byteLimit": 2048000,
      "rowLimit": 10000
     },
     "inputWidgets": {},
     "nuid": "bce154ae-ea22-4e83-aa68-a50e89a41a8c",
     "showTitle": true,
     "tableResultSettingsMap": {},
     "title": "Filter products with rating > 4 and more than 100 reviews"
    }
   },
   "outputs": [
    {
     "output_type": "stream",
     "name": "stdout",
     "output_type": "stream",
     "text": [
      "+-----+--------------------+------+----------+\n|   id|               title|rating|noreviews1|\n+-----+--------------------+------+----------+\n|13859|Women Black Wedge...|   4.2|       487|\n|19453|Denill Ankle Leng...|   4.1|       961|\n| 3205|     SFG-23 Slippers|   4.1|      1598|\n| 7625|White casual, gym...|   4.2|       381|\n|17791|Synthetic Leather...|   4.2|       182|\n|15762|Running Shoes For...|   4.1|      8254|\n|15247|SM-484 Casuals Fo...|   4.2|       436|\n|20247|Women Black Heels...|   4.1|       182|\n|10655|Women Brown Wedge...|   4.1|       178|\n|20918|GO WALK 5-SPARROW...|   4.3|       106|\n|16193|crocs Unisex's Ra...|   4.3|       661|\n| 8485|Men Grey Clogs Sa...|   4.1|       328|\n| 7561|Men Navy Sports S...|   4.2|      2103|\n| 9249|Women Black Wedge...|   4.2|       487|\n|20597|Sneakers For Men ...|   4.1|       597|\n|11078|Men Black Clogs S...|   4.2|      1098|\n|13151|Walking Shoes For...|   4.1|       938|\n|15716|Mojaris For Men  ...|   4.1|       106|\n|20324|Women Pink Wedges...|   4.2|       232|\n| 8184|              Slides|   4.1|       141|\n+-----+--------------------+------+----------+\nonly showing top 20 rows\n\n"
     ]
    }
   ],
   "source": [
    "# Filter products with rating > 4 and more than 100 reviews\n",
    "flipkart_df.select(\"id\",\"title\",\"rating\",\"noreviews1\").where((flipkart_df[\"Rating\"] > 4) & (flipkart_df[\"noreviews1\"] >100)).show()"
   ]
  },
  {
   "cell_type": "code",
   "execution_count": 0,
   "metadata": {
    "application/vnd.databricks.v1+cell": {
     "cellMetadata": {
      "byteLimit": 2048000,
      "rowLimit": 10000
     },
     "inputWidgets": {},
     "nuid": "5ea8891d-773f-432e-a72e-4692bd97fc47",
     "showTitle": true,
     "tableResultSettingsMap": {},
     "title": "Display Products in 'Men' category that are fulfilled"
    }
   },
   "outputs": [
    {
     "output_type": "stream",
     "name": "stdout",
     "output_type": "stream",
     "text": [
      "+--------------------+---------+----------+\n|               title|maincateg|fulfilled1|\n+--------------------+---------+----------+\n|Casuals For Men  ...|      Men|         1|\n|Men's Height Incr...|      Men|         1|\n|Combo Pack Of 2 C...|      Men|         1|\n|MOCCASSIN Slip On...|      Men|         1|\n|Long OfficeWear C...|      Men|         1|\n|     SFG-23 Slippers|      Men|         1|\n|Dark Brown Leathe...|      Men|         1|\n|Long OfficeWear C...|      Men|         1|\n|Monk Strap For Me...|      Men|         1|\n|    Men Brown Sandal|      Men|         1|\n|Men Hawaii Flip F...|      Men|         1|\n|Men Blue Clogs Sa...|      Men|         1|\n|Java 2 IDP Flip F...|      Men|         1|\n|Derby For Men  (B...|      Men|         1|\n|Combo pack of 2 s...|      Men|         1|\n|GO WALK 5-SPARROW...|      Men|         1|\n|Genuine Leather F...|      Men|         1|\n|Genuine Leather F...|      Men|         1|\n|Men Navy Sports S...|      Men|         1|\n|    Men Brown Sandal|      Men|         1|\n+--------------------+---------+----------+\nonly showing top 20 rows\n\n"
     ]
    }
   ],
   "source": [
    "# Display Products in 'Men' category that are fulfilled\n",
    "flipkart_df.filter((flipkart_df[\"maincateg\"] == \"Men\") & (flipkart_df[\"fulfilled1\"] == 1)).select(\"title\", \"maincateg\", \"fulfilled1\").show()"
   ]
  },
  {
   "cell_type": "code",
   "execution_count": 0,
   "metadata": {
    "application/vnd.databricks.v1+cell": {
     "cellMetadata": {
      "byteLimit": 2048000,
      "rowLimit": 10000
     },
     "inputWidgets": {},
     "nuid": "1be257d2-da3f-4ae7-b1ff-42ef6c42c3d3",
     "showTitle": true,
     "tableResultSettingsMap": {},
     "title": "Display number of products per category"
    }
   },
   "outputs": [
    {
     "output_type": "stream",
     "name": "stdout",
     "output_type": "stream",
     "text": [
      "+---------+-----+\n|maincateg|count|\n+---------+-----+\n|     null|   67|\n|      Men| 2145|\n|    Women| 3032|\n+---------+-----+\n\n"
     ]
    }
   ],
   "source": [
    "# Display number of products per category\n",
    "flipkart_df.groupBy(\"maincateg\").count().show()"
   ]
  },
  {
   "cell_type": "code",
   "execution_count": 0,
   "metadata": {
    "application/vnd.databricks.v1+cell": {
     "cellMetadata": {
      "byteLimit": 2048000,
      "rowLimit": 10000
     },
     "inputWidgets": {},
     "nuid": "93ff00c4-69d0-46ba-ad68-3c43aaffadcc",
     "showTitle": true,
     "tableResultSettingsMap": {},
     "title": "Display Average rating per category"
    }
   },
   "outputs": [
    {
     "output_type": "stream",
     "name": "stdout",
     "output_type": "stream",
     "text": [
      "+---------+------------------+\n|maincateg|       avg(Rating)|\n+---------+------------------+\n|     null|             4.225|\n|      Men|3.9662970106075246|\n|    Women|4.0416582064297915|\n+---------+------------------+\n\n"
     ]
    }
   ],
   "source": [
    "# Display Average rating per category\n",
    "flipkart_df.groupBy(\"maincateg\").agg({\"Rating\": \"avg\"}).show()"
   ]
  },
  {
   "cell_type": "code",
   "execution_count": 0,
   "metadata": {
    "application/vnd.databricks.v1+cell": {
     "cellMetadata": {
      "byteLimit": 2048000,
      "rowLimit": 10000
     },
     "inputWidgets": {},
     "nuid": "0cdf490d-3760-4c51-ad65-a4178ffab849",
     "showTitle": true,
     "tableResultSettingsMap": {},
     "title": "Display Category with highest average number of reviews"
    }
   },
   "outputs": [
    {
     "output_type": "stream",
     "name": "stdout",
     "output_type": "stream",
     "text": [
      "+---------+-----------------+\n|maincateg|  avg(noreviews1)|\n+---------+-----------------+\n|      Men|759.6554778554779|\n+---------+-----------------+\nonly showing top 1 row\n\n"
     ]
    }
   ],
   "source": [
    "# Display Category with highest average number of reviews\n",
    "flipkart_df.groupBy(\"maincateg\").agg({\"noreviews1\": \"avg\"}).orderBy(\"avg(noreviews1)\", ascending=False).show(1)\n"
   ]
  },
  {
   "cell_type": "code",
   "execution_count": 0,
   "metadata": {
    "application/vnd.databricks.v1+cell": {
     "cellMetadata": {
      "byteLimit": 2048000,
      "rowLimit": 10000
     },
     "inputWidgets": {},
     "nuid": "b4272bbe-8813-4eaf-a55d-35c01d621e30",
     "showTitle": true,
     "tableResultSettingsMap": {},
     "title": "Top 5 products with highest price. display product name and price"
    }
   },
   "outputs": [
    {
     "output_type": "stream",
     "name": "stdout",
     "output_type": "stream",
     "text": [
      "+--------------------+---------+\n|               title|actprice1|\n+--------------------+---------+\n|GEL-QUANTUM 360 K...|    15999|\n|Women Orange Spor...|    12999|\n|GT-2000 5 (D) Run...|    10999|\n|Hybrid Astro Runn...|    10999|\n|DEERUPT RUNNER W ...|     9999|\n+--------------------+---------+\n\n"
     ]
    }
   ],
   "source": [
    "# Top 5 products with highest price. display product name and price\n",
    "flipkart_df.select(\"title\", \"actprice1\").orderBy(\"actprice1\", ascending=False).limit(5).show()"
   ]
  },
  {
   "cell_type": "code",
   "execution_count": 0,
   "metadata": {
    "application/vnd.databricks.v1+cell": {
     "cellMetadata": {
      "byteLimit": 2048000,
      "rowLimit": 10000
     },
     "inputWidgets": {},
     "nuid": "9353cba2-7ba1-4189-841a-84ed79cdec43",
     "showTitle": true,
     "tableResultSettingsMap": {},
     "title": "Display Min, max, and avg price per category"
    }
   },
   "outputs": [
    {
     "output_type": "stream",
     "name": "stdout",
     "output_type": "stream",
     "text": [
      "+---------+------------------+\n|maincateg|    avg(actprice1)|\n+---------+------------------+\n|     null|1574.7313432835822|\n|      Men|  1455.86013986014|\n|    Women|1319.7081134564644|\n+---------+------------------+\n\n"
     ]
    }
   ],
   "source": [
    "# Display Min, max, and avg price per category\n",
    "flipkart_df.groupBy(\"maincateg\").agg(\n",
    "    {\"actprice1\": \"min\", \"actprice1\": \"max\", \"actprice1\": \"avg\"}\n",
    ").show()"
   ]
  },
  {
   "cell_type": "code",
   "execution_count": 0,
   "metadata": {
    "application/vnd.databricks.v1+cell": {
     "cellMetadata": {
      "byteLimit": 2048000,
      "rowLimit": 10000
     },
     "inputWidgets": {},
     "nuid": "c51e0a9a-e452-41b2-9405-308d4e18f746",
     "showTitle": true,
     "tableResultSettingsMap": {},
     "title": "Display number of nulls in each column"
    }
   },
   "outputs": [
    {
     "output_type": "stream",
     "name": "stdout",
     "output_type": "stream",
     "text": [
      "+---+-----+------+---------+--------+---------+---------+----------+-------+-------+-------+-------+-------+----------+\n| id|title|Rating|maincateg|platform|actprice1|norating1|noreviews1|star_5f|star_4f|star_3f|star_2f|star_1f|fulfilled1|\n+---+-----+------+---------+--------+---------+---------+----------+-------+-------+-------+-------+-------+----------+\n|  0|    0|   203|       67|       0|        0|        0|         0|     68|      0|      0|      0|    186|         0|\n+---+-----+------+---------+--------+---------+---------+----------+-------+-------+-------+-------+-------+----------+\n\n"
     ]
    }
   ],
   "source": [
    "# Display number of nulls in each column\n",
    "from pyspark.sql.functions import col, sum\n",
    "flipkart_df.select([sum(col(c).isNull().cast(\"int\")).alias(c) for c in flipkart_df.columns]).show()"
   ]
  },
  {
   "cell_type": "code",
   "execution_count": 0,
   "metadata": {
    "application/vnd.databricks.v1+cell": {
     "cellMetadata": {
      "byteLimit": 2048000,
      "rowLimit": 10000
     },
     "inputWidgets": {},
     "nuid": "c8c8a3b3-3917-4e67-a0a2-0afebfcc4736",
     "showTitle": true,
     "tableResultSettingsMap": {},
     "title": "calculate and display the category name, number of fulfilled, and unfulfilled products"
    }
   },
   "outputs": [
    {
     "output_type": "stream",
     "name": "stdout",
     "output_type": "stream",
     "text": [
      "+---------+----------+-----+\n|maincateg|fulfilled1|count|\n+---------+----------+-----+\n|      Men|         1| 1352|\n|     null|         1|   40|\n|    Women|         0| 1254|\n|      Men|         0|  793|\n|    Women|         1| 1778|\n|     null|         0|   27|\n+---------+----------+-----+\n\n"
     ]
    }
   ],
   "source": [
    "# calculate and display the category name, number of fulfilled, and unfulfilled products\n",
    "flipkart_df.groupBy(\"maincateg\", \"fulfilled1\").count().show()"
   ]
  },
  {
   "cell_type": "code",
   "execution_count": 0,
   "metadata": {
    "application/vnd.databricks.v1+cell": {
     "cellMetadata": {
      "byteLimit": 2048000,
      "rowLimit": 10000
     },
     "inputWidgets": {},
     "nuid": "a3415a3d-43c4-4e6a-acc7-e6afe16276da",
     "showTitle": true,
     "tableResultSettingsMap": {},
     "title": "Display Count of products per category"
    }
   },
   "outputs": [
    {
     "output_type": "stream",
     "name": "stdout",
     "output_type": "stream",
     "text": [
      "+---------+-----+\n|maincateg|count|\n+---------+-----+\n|     null|   67|\n|      Men| 2145|\n|    Women| 3032|\n+---------+-----+\n\n"
     ]
    }
   ],
   "source": [
    "# Display Count of products per category\n",
    "flipkart_df.groupBy(\"maincateg\").count().show()"
   ]
  },
  {
   "cell_type": "code",
   "execution_count": 0,
   "metadata": {
    "application/vnd.databricks.v1+cell": {
     "cellMetadata": {
      "byteLimit": 2048000,
      "rowLimit": 10000
     },
     "inputWidgets": {},
     "nuid": "85467739-d609-44d2-b40f-0e7b6657bea1",
     "showTitle": true,
     "tableResultSettingsMap": {},
     "title": "Display Average rating per category"
    }
   },
   "outputs": [
    {
     "output_type": "stream",
     "name": "stdout",
     "output_type": "stream",
     "text": [
      "+---------+------------------+\n|maincateg|       avg(Rating)|\n+---------+------------------+\n|     null|             4.225|\n|      Men|3.9662970106075246|\n|    Women|4.0416582064297915|\n+---------+------------------+\n\n"
     ]
    }
   ],
   "source": [
    "# Display Average rating per category\n",
    "flipkart_df.groupBy(\"maincateg\").agg({\"Rating\": \"avg\"}).show()"
   ]
  },
  {
   "cell_type": "code",
   "execution_count": 0,
   "metadata": {
    "application/vnd.databricks.v1+cell": {
     "cellMetadata": {
      "byteLimit": 2048000,
      "rowLimit": 10000
     },
     "inputWidgets": {},
     "nuid": "6eba27e0-bc8a-46df-9bed-4453f6ed45c5",
     "showTitle": true,
     "tableResultSettingsMap": {},
     "title": "Display Category with highest average number of reviews"
    }
   },
   "outputs": [
    {
     "output_type": "stream",
     "name": "stdout",
     "output_type": "stream",
     "text": [
      "+---------+-----------------+\n|maincateg|  avg(noreviews1)|\n+---------+-----------------+\n|      Men|759.6554778554779|\n+---------+-----------------+\nonly showing top 1 row\n\n"
     ]
    }
   ],
   "source": [
    "# Display Category with highest average number of reviews\n",
    "flipkart_df.groupBy(\"maincateg\").agg({\"noreviews1\": \"avg\"}).orderBy(\"avg(noreviews1)\", ascending=False).show(1)"
   ]
  },
  {
   "cell_type": "code",
   "execution_count": 0,
   "metadata": {
    "application/vnd.databricks.v1+cell": {
     "cellMetadata": {
      "byteLimit": 2048000,
      "rowLimit": 10000
     },
     "inputWidgets": {},
     "nuid": "c001b8e8-6be4-4119-9a78-70778d6924d5",
     "showTitle": true,
     "tableResultSettingsMap": {},
     "title": "Display Bar chart of product count per category"
    }
   },
   "outputs": [
    {
     "output_type": "display_data",
     "data": {
      "text/html": [
       "<style scoped>\n",
       "  .table-result-container {\n",
       "    max-height: 300px;\n",
       "    overflow: auto;\n",
       "  }\n",
       "  table, th, td {\n",
       "    border: 1px solid black;\n",
       "    border-collapse: collapse;\n",
       "  }\n",
       "  th, td {\n",
       "    padding: 5px;\n",
       "  }\n",
       "  th {\n",
       "    text-align: left;\n",
       "  }\n",
       "</style><div class='table-result-container'><table class='table-result'><thead style='background-color: white'><tr><th>maincateg</th><th>count</th></tr></thead><tbody><tr><td>null</td><td>67</td></tr><tr><td>Men</td><td>2145</td></tr><tr><td>Women</td><td>3032</td></tr></tbody></table></div>"
      ]
     },
     "metadata": {
      "application/vnd.databricks.v1+output": {
       "addedWidgets": {},
       "aggData": [],
       "aggError": "",
       "aggOverflow": false,
       "aggSchema": [],
       "aggSeriesLimitReached": false,
       "aggType": "",
       "arguments": {},
       "columnCustomDisplayInfos": {},
       "data": [
        [
         null,
         67
        ],
        [
         "Men",
         2145
        ],
        [
         "Women",
         3032
        ]
       ],
       "datasetInfos": [],
       "dbfsResultPath": null,
       "isJsonSchema": true,
       "metadata": {},
       "overflow": false,
       "plotOptions": {
        "customPlotOptions": {},
        "displayType": "table",
        "pivotAggregation": null,
        "pivotColumns": null,
        "xColumns": null,
        "yColumns": null
       },
       "removedWidgets": [],
       "schema": [
        {
         "metadata": "{}",
         "name": "maincateg",
         "type": "\"string\""
        },
        {
         "metadata": "{}",
         "name": "count",
         "type": "\"long\""
        }
       ],
       "type": "table"
      }
     },
     "output_type": "display_data"
    },
    {
     "output_type": "display_data",
     "data": {
      "text/plain": [
       "Databricks visualization. Run in Databricks to view."
      ]
     },
     "metadata": {
      "application/vnd.databricks.v1.subcommand+json": {
       "baseErrorDetails": null,
       "bindings": {},
       "collapsed": false,
       "command": "%python\n__backend_agg_display_orig = display\n__backend_agg_dfs = []\ndef __backend_agg_display_new(df):\n    __backend_agg_df_modules = [\"pandas.core.frame\", \"databricks.koalas.frame\", \"pyspark.sql.dataframe\", \"pyspark.pandas.frame\", \"pyspark.sql.connect.dataframe\"]\n    if (type(df).__module__ in __backend_agg_df_modules and type(df).__name__ == 'DataFrame') or isinstance(df, list):\n        __backend_agg_dfs.append(df)\n\ndisplay = __backend_agg_display_new\n\ndef __backend_agg_user_code_fn():\n    import base64\n    exec(base64.standard_b64decode(\"IyBEaXNwbGF5IEJhciBjaGFydCBvZiBwcm9kdWN0IGNvdW50IHBlciBjYXRlZ29yeQoKIyBVc2UgRGF0YWJyaWNrcyBVSSB0byB2aXN1YWxpemUgdGhpcyBhcyBhIGJhciBjaGFydApUT0RPCg==\").decode())\n\ntry:\n    # run user code\n    __backend_agg_user_code_fn()\n\n    #reset display function\n    display = __backend_agg_display_orig\n\n    if len(__backend_agg_dfs) > 0:\n        # create a temp view\n        if type(__backend_agg_dfs[0]).__module__ == \"databricks.koalas.frame\":\n            # koalas dataframe\n            __backend_agg_dfs[0].to_spark().createOrReplaceTempView(\"DatabricksViewf33f151\")\n        elif type(__backend_agg_dfs[0]).__module__ == \"pandas.core.frame\" or isinstance(__backend_agg_dfs[0], list):\n            # pandas dataframe\n            spark.createDataFrame(__backend_agg_dfs[0]).createOrReplaceTempView(\"DatabricksViewf33f151\")\n        else:\n            __backend_agg_dfs[0].createOrReplaceTempView(\"DatabricksViewf33f151\")\n        #run backend agg\n        display(spark.sql(\"\"\"WITH q AS (select * from DatabricksViewf33f151) SELECT `maincateg`,SUM(`count`) `column_3447e740184` FROM q GROUP BY `maincateg`\"\"\"))\n    else:\n        displayHTML(\"dataframe no longer exists. If you're using dataframe.display(), use display(dataframe) instead.\")\n\n\nfinally:\n    spark.sql(\"drop view if exists DatabricksViewf33f151\")\n    display = __backend_agg_display_orig\n    del __backend_agg_display_new\n    del __backend_agg_display_orig\n    del __backend_agg_dfs\n    del __backend_agg_user_code_fn\n\n",
       "commandTitle": "Visualization 1",
       "commandType": "auto",
       "commandVersion": 0,
       "commentThread": [],
       "commentsVisible": false,
       "contentSha256Hex": null,
       "customPlotOptions": {
        "redashChart": [
         {
          "key": "type",
          "value": "CHART"
         },
         {
          "key": "options",
          "value": {
           "alignYAxesAtZero": true,
           "coefficient": 1,
           "columnConfigurationMap": {
            "x": {
             "column": "maincateg",
             "id": "column_3447e740183"
            },
            "y": [
             {
              "column": "count",
              "id": "column_3447e740184",
              "transform": "SUM"
             }
            ]
           },
           "dateTimeFormat": "DD/MM/YYYY HH:mm",
           "direction": {
            "type": "counterclockwise"
           },
           "error_y": {
            "type": "data",
            "visible": true
           },
           "globalSeriesType": "column",
           "isAggregationOn": true,
           "legend": {
            "traceorder": "normal"
           },
           "missingValuesAsZero": true,
           "numberFormat": "0,0.[00000]",
           "percentFormat": "0[.]00%",
           "series": {
            "error_y": {
             "type": "data",
             "visible": true
            },
            "stacking": null
           },
           "seriesOptions": {
            "column_3447e740184": {
             "name": "count",
             "yAxis": 0
            }
           },
           "showDataLabels": false,
           "sizemode": "diameter",
           "sortX": true,
           "sortY": true,
           "swappedAxes": false,
           "textFormat": "",
           "useAggregationsUi": true,
           "valuesOptions": {},
           "version": 2,
           "xAxis": {
            "labels": {
             "enabled": true
            },
            "type": "-"
           },
           "yAxis": [
            {
             "type": "-"
            },
            {
             "opposite": true,
             "type": "-"
            }
           ]
          }
         }
        ]
       },
       "datasetPreviewNameToCmdIdMap": {},
       "diffDeletes": [],
       "diffInserts": [],
       "displayType": "redashChart",
       "error": null,
       "errorDetails": null,
       "errorSummary": null,
       "errorTraceType": null,
       "finishTime": 0,
       "globalVars": {},
       "guid": "",
       "height": "auto",
       "hideCommandCode": false,
       "hideCommandResult": false,
       "iPythonMetadata": null,
       "inputWidgets": {},
       "isLockedInExamMode": false,
       "latestUser": "a user",
       "latestUserId": null,
       "listResultMetadata": null,
       "metadata": {
        "byteLimit": 2048000,
        "rowLimit": 10000
       },
       "nuid": "5f970291-9764-416f-b236-32f2d8ff01dc",
       "origId": 0,
       "parentHierarchy": [],
       "pivotAggregation": null,
       "pivotColumns": null,
       "position": 18.0,
       "resultDbfsErrorMessage": null,
       "resultDbfsStatus": "INLINED_IN_TREE",
       "results": null,
       "showCommandTitle": false,
       "startTime": 0,
       "state": "input",
       "streamStates": {},
       "subcommandOptions": {
        "queryPlan": {
         "groups": [
          {
           "column": "maincateg",
           "type": "column"
          }
         ],
         "selects": [
          {
           "column": "maincateg",
           "type": "column"
          },
          {
           "alias": "column_3447e740184",
           "args": [
            {
             "column": "count",
             "type": "column"
            }
           ],
           "function": "SUM",
           "type": "function"
          }
         ]
        }
       },
       "submitTime": 0,
       "subtype": "tableResultSubCmd.visualization",
       "tableResultIndex": 0,
       "tableResultSettingsMap": {},
       "useConsistentColors": false,
       "version": "CommandV1",
       "width": "auto",
       "workflows": [],
       "xColumns": null,
       "yColumns": null
      }
     },
     "output_type": "display_data"
    }
   ],
   "source": [
    "# Display Bar chart of product count per category\n",
    "category_counts = flipkart_df.groupBy(\"maincateg\").count()\n",
    "# Use Databricks UI to visualize this as a bar chart\n",
    "category_counts.display()\n"
   ]
  },
  {
   "cell_type": "code",
   "execution_count": 0,
   "metadata": {
    "application/vnd.databricks.v1+cell": {
     "cellMetadata": {
      "byteLimit": 2048000,
      "rowLimit": 10000
     },
     "inputWidgets": {},
     "nuid": "65523498-d55d-4d54-ad4c-176710c38055",
     "showTitle": true,
     "tableResultSettingsMap": {},
     "title": "Bar chart of average rating per category"
    }
   },
   "outputs": [
    {
     "output_type": "display_data",
     "data": {
      "text/html": [
       "<style scoped>\n",
       "  .table-result-container {\n",
       "    max-height: 300px;\n",
       "    overflow: auto;\n",
       "  }\n",
       "  table, th, td {\n",
       "    border: 1px solid black;\n",
       "    border-collapse: collapse;\n",
       "  }\n",
       "  th, td {\n",
       "    padding: 5px;\n",
       "  }\n",
       "  th {\n",
       "    text-align: left;\n",
       "  }\n",
       "</style><div class='table-result-container'><table class='table-result'><thead style='background-color: white'><tr><th>maincateg</th><th>avg(Rating)</th></tr></thead><tbody><tr><td>null</td><td>4.225</td></tr><tr><td>Men</td><td>3.9662970106075246</td></tr><tr><td>Women</td><td>4.0416582064297915</td></tr></tbody></table></div>"
      ]
     },
     "metadata": {
      "application/vnd.databricks.v1+output": {
       "addedWidgets": {},
       "aggData": [],
       "aggError": "",
       "aggOverflow": false,
       "aggSchema": [],
       "aggSeriesLimitReached": false,
       "aggType": "",
       "arguments": {},
       "columnCustomDisplayInfos": {},
       "data": [
        [
         null,
         4.225
        ],
        [
         "Men",
         3.9662970106075246
        ],
        [
         "Women",
         4.0416582064297915
        ]
       ],
       "datasetInfos": [],
       "dbfsResultPath": null,
       "isJsonSchema": true,
       "metadata": {},
       "overflow": false,
       "plotOptions": {
        "customPlotOptions": {},
        "displayType": "table",
        "pivotAggregation": null,
        "pivotColumns": null,
        "xColumns": null,
        "yColumns": null
       },
       "removedWidgets": [],
       "schema": [
        {
         "metadata": "{}",
         "name": "maincateg",
         "type": "\"string\""
        },
        {
         "metadata": "{}",
         "name": "avg(Rating)",
         "type": "\"double\""
        }
       ],
       "type": "table"
      }
     },
     "output_type": "display_data"
    },
    {
     "output_type": "display_data",
     "data": {
      "text/plain": [
       "Databricks visualization. Run in Databricks to view."
      ]
     },
     "metadata": {
      "application/vnd.databricks.v1.subcommand+json": {
       "baseErrorDetails": null,
       "bindings": {},
       "collapsed": false,
       "command": "%python\n__backend_agg_display_orig = display\n__backend_agg_dfs = []\ndef __backend_agg_display_new(df):\n    __backend_agg_df_modules = [\"pandas.core.frame\", \"databricks.koalas.frame\", \"pyspark.sql.dataframe\", \"pyspark.pandas.frame\", \"pyspark.sql.connect.dataframe\"]\n    if (type(df).__module__ in __backend_agg_df_modules and type(df).__name__ == 'DataFrame') or isinstance(df, list):\n        __backend_agg_dfs.append(df)\n\ndisplay = __backend_agg_display_new\n\ndef __backend_agg_user_code_fn():\n    import base64\n    exec(base64.standard_b64decode(\"IyBCYXIgY2hhcnQgb2YgYXZlcmFnZSByYXRpbmcgcGVyIGNhdGVnb3J5CmNhdGVnb3J5X2F2Z19yYXRpbmcgPSBmbGlwa2FydF9kZi5ncm91cEJ5KCJtYWluY2F0ZWciKS5hZ2coeyJSYXRpbmciOiAiYXZnIn0pCmNhdGVnb3J5X2F2Z19yYXRpbmcuZGlzcGxheSgp\").decode())\n\ntry:\n    # run user code\n    __backend_agg_user_code_fn()\n\n    #reset display function\n    display = __backend_agg_display_orig\n\n    if len(__backend_agg_dfs) > 0:\n        # create a temp view\n        if type(__backend_agg_dfs[0]).__module__ == \"databricks.koalas.frame\":\n            # koalas dataframe\n            __backend_agg_dfs[0].to_spark().createOrReplaceTempView(\"DatabricksView2792a85\")\n        elif type(__backend_agg_dfs[0]).__module__ == \"pandas.core.frame\" or isinstance(__backend_agg_dfs[0], list):\n            # pandas dataframe\n            spark.createDataFrame(__backend_agg_dfs[0]).createOrReplaceTempView(\"DatabricksView2792a85\")\n        else:\n            __backend_agg_dfs[0].createOrReplaceTempView(\"DatabricksView2792a85\")\n        #run backend agg\n        display(spark.sql(\"\"\"WITH q AS (select * from DatabricksView2792a85) SELECT `maincateg`,SUM(`avg(Rating)`) `column_d1d560a154` FROM q GROUP BY `maincateg`\"\"\"))\n    else:\n        displayHTML(\"dataframe no longer exists. If you're using dataframe.display(), use display(dataframe) instead.\")\n\n\nfinally:\n    spark.sql(\"drop view if exists DatabricksView2792a85\")\n    display = __backend_agg_display_orig\n    del __backend_agg_display_new\n    del __backend_agg_display_orig\n    del __backend_agg_dfs\n    del __backend_agg_user_code_fn\n\n",
       "commandTitle": "Visualization 1",
       "commandType": "auto",
       "commandVersion": 0,
       "commentThread": [],
       "commentsVisible": false,
       "contentSha256Hex": null,
       "customPlotOptions": {
        "redashChart": [
         {
          "key": "type",
          "value": "CHART"
         },
         {
          "key": "options",
          "value": {
           "alignYAxesAtZero": true,
           "coefficient": 1,
           "columnConfigurationMap": {
            "x": {
             "column": "maincateg",
             "id": "column_d1d560a153"
            },
            "y": [
             {
              "column": "avg(Rating)",
              "id": "column_d1d560a154",
              "transform": "SUM"
             }
            ]
           },
           "dateTimeFormat": "DD/MM/YYYY HH:mm",
           "direction": {
            "type": "counterclockwise"
           },
           "error_y": {
            "type": "data",
            "visible": true
           },
           "globalSeriesType": "column",
           "isAggregationOn": true,
           "legend": {
            "traceorder": "normal"
           },
           "missingValuesAsZero": true,
           "numberFormat": "0,0.[00000]",
           "percentFormat": "0[.]00%",
           "series": {
            "error_y": {
             "type": "data",
             "visible": true
            },
            "stacking": null
           },
           "seriesOptions": {
            "column_d1d560a154": {
             "name": "avg(Rating)",
             "yAxis": 0
            }
           },
           "showDataLabels": false,
           "sizemode": "diameter",
           "sortX": true,
           "sortY": true,
           "swappedAxes": false,
           "textFormat": "",
           "useAggregationsUi": true,
           "valuesOptions": {},
           "version": 2,
           "xAxis": {
            "labels": {
             "enabled": true
            },
            "type": "-"
           },
           "yAxis": [
            {
             "type": "-"
            },
            {
             "opposite": true,
             "type": "-"
            }
           ]
          }
         }
        ]
       },
       "datasetPreviewNameToCmdIdMap": {},
       "diffDeletes": [],
       "diffInserts": [],
       "displayType": "redashChart",
       "error": null,
       "errorDetails": null,
       "errorSummary": null,
       "errorTraceType": null,
       "finishTime": 0,
       "globalVars": {},
       "guid": "",
       "height": "auto",
       "hideCommandCode": false,
       "hideCommandResult": false,
       "iPythonMetadata": null,
       "inputWidgets": {},
       "isLockedInExamMode": false,
       "latestUser": "a user",
       "latestUserId": null,
       "listResultMetadata": null,
       "metadata": {},
       "nuid": "feaf90b8-3a4f-4e0c-a8ac-3060e90639d1",
       "origId": 0,
       "parentHierarchy": [],
       "pivotAggregation": null,
       "pivotColumns": null,
       "position": 21.0,
       "resultDbfsErrorMessage": null,
       "resultDbfsStatus": "INLINED_IN_TREE",
       "results": null,
       "showCommandTitle": false,
       "startTime": 0,
       "state": "input",
       "streamStates": {},
       "subcommandOptions": {
        "queryPlan": {
         "groups": [
          {
           "column": "maincateg",
           "type": "column"
          }
         ],
         "selects": [
          {
           "column": "maincateg",
           "type": "column"
          },
          {
           "alias": "column_d1d560a154",
           "args": [
            {
             "column": "avg(Rating)",
             "type": "column"
            }
           ],
           "function": "SUM",
           "type": "function"
          }
         ]
        }
       },
       "submitTime": 0,
       "subtype": "tableResultSubCmd.visualization",
       "tableResultIndex": 0,
       "tableResultSettingsMap": {},
       "useConsistentColors": false,
       "version": "CommandV1",
       "width": "auto",
       "workflows": [],
       "xColumns": null,
       "yColumns": null
      }
     },
     "output_type": "display_data"
    }
   ],
   "source": [
    "# Bar chart of average rating per category\n",
    "category_avg_rating = flipkart_df.groupBy(\"maincateg\").agg({\"Rating\": \"avg\"})\n",
    "category_avg_rating.display()"
   ]
  },
  {
   "cell_type": "code",
   "execution_count": 0,
   "metadata": {
    "application/vnd.databricks.v1+cell": {
     "cellMetadata": {
      "byteLimit": 2048000,
      "rowLimit": 10000
     },
     "inputWidgets": {},
     "nuid": "15834ac3-ae46-4f29-b638-331b68d137f1",
     "showTitle": true,
     "tableResultSettingsMap": {},
     "title": "Display Bar chart of total number of reviews per category"
    }
   },
   "outputs": [
    {
     "output_type": "display_data",
     "data": {
      "text/html": [
       "<style scoped>\n",
       "  .table-result-container {\n",
       "    max-height: 300px;\n",
       "    overflow: auto;\n",
       "  }\n",
       "  table, th, td {\n",
       "    border: 1px solid black;\n",
       "    border-collapse: collapse;\n",
       "  }\n",
       "  th, td {\n",
       "    padding: 5px;\n",
       "  }\n",
       "  th {\n",
       "    text-align: left;\n",
       "  }\n",
       "</style><div class='table-result-container'><table class='table-result'><thead style='background-color: white'><tr><th>maincateg</th><th>sum(noreviews1)</th></tr></thead><tbody><tr><td>null</td><td>14084</td></tr><tr><td>Men</td><td>1629461</td></tr><tr><td>Women</td><td>535290</td></tr></tbody></table></div>"
      ]
     },
     "metadata": {
      "application/vnd.databricks.v1+output": {
       "addedWidgets": {},
       "aggData": [],
       "aggError": "",
       "aggOverflow": false,
       "aggSchema": [],
       "aggSeriesLimitReached": false,
       "aggType": "",
       "arguments": {},
       "columnCustomDisplayInfos": {},
       "data": [
        [
         null,
         14084
        ],
        [
         "Men",
         1629461
        ],
        [
         "Women",
         535290
        ]
       ],
       "datasetInfos": [],
       "dbfsResultPath": null,
       "isJsonSchema": true,
       "metadata": {},
       "overflow": false,
       "plotOptions": {
        "customPlotOptions": {},
        "displayType": "table",
        "pivotAggregation": null,
        "pivotColumns": null,
        "xColumns": null,
        "yColumns": null
       },
       "removedWidgets": [],
       "schema": [
        {
         "metadata": "{}",
         "name": "maincateg",
         "type": "\"string\""
        },
        {
         "metadata": "{}",
         "name": "sum(noreviews1)",
         "type": "\"long\""
        }
       ],
       "type": "table"
      }
     },
     "output_type": "display_data"
    },
    {
     "output_type": "display_data",
     "data": {
      "text/plain": [
       "Databricks visualization. Run in Databricks to view."
      ]
     },
     "metadata": {
      "application/vnd.databricks.v1.subcommand+json": {
       "baseErrorDetails": null,
       "bindings": {},
       "collapsed": false,
       "command": "%python\n__backend_agg_display_orig = display\n__backend_agg_dfs = []\ndef __backend_agg_display_new(df):\n    __backend_agg_df_modules = [\"pandas.core.frame\", \"databricks.koalas.frame\", \"pyspark.sql.dataframe\", \"pyspark.pandas.frame\", \"pyspark.sql.connect.dataframe\"]\n    if (type(df).__module__ in __backend_agg_df_modules and type(df).__name__ == 'DataFrame') or isinstance(df, list):\n        __backend_agg_dfs.append(df)\n\ndisplay = __backend_agg_display_new\n\ndef __backend_agg_user_code_fn():\n    import base64\n    exec(base64.standard_b64decode(\"IyBEaXNwbGF5IEJhciBjaGFydCBvZiB0b3RhbCBudW1iZXIgb2YgcmV2aWV3cyBwZXIgY2F0ZWdvcnkKY2F0ZWdvcnlfcmV2aWV3cyA9IGZsaXBrYXJ0X2RmLmdyb3VwQnkoIm1haW5jYXRlZyIpLmFnZyh7Im5vcmV2aWV3czEiOiAic3VtIn0pCmNhdGVnb3J5X3Jldmlld3MuZGlzcGxheSgp\").decode())\n\ntry:\n    # run user code\n    __backend_agg_user_code_fn()\n\n    #reset display function\n    display = __backend_agg_display_orig\n\n    if len(__backend_agg_dfs) > 0:\n        # create a temp view\n        if type(__backend_agg_dfs[0]).__module__ == \"databricks.koalas.frame\":\n            # koalas dataframe\n            __backend_agg_dfs[0].to_spark().createOrReplaceTempView(\"DatabricksView90210ea\")\n        elif type(__backend_agg_dfs[0]).__module__ == \"pandas.core.frame\" or isinstance(__backend_agg_dfs[0], list):\n            # pandas dataframe\n            spark.createDataFrame(__backend_agg_dfs[0]).createOrReplaceTempView(\"DatabricksView90210ea\")\n        else:\n            __backend_agg_dfs[0].createOrReplaceTempView(\"DatabricksView90210ea\")\n        #run backend agg\n        display(spark.sql(\"\"\"WITH q AS (select * from DatabricksView90210ea) SELECT `maincateg`,SUM(`sum(noreviews1)`) `column_d1d560a163` FROM q GROUP BY `maincateg`\"\"\"))\n    else:\n        displayHTML(\"dataframe no longer exists. If you're using dataframe.display(), use display(dataframe) instead.\")\n\n\nfinally:\n    spark.sql(\"drop view if exists DatabricksView90210ea\")\n    display = __backend_agg_display_orig\n    del __backend_agg_display_new\n    del __backend_agg_display_orig\n    del __backend_agg_dfs\n    del __backend_agg_user_code_fn\n\n",
       "commandTitle": "Visualization 1",
       "commandType": "auto",
       "commandVersion": 0,
       "commentThread": [],
       "commentsVisible": false,
       "contentSha256Hex": null,
       "customPlotOptions": {
        "redashChart": [
         {
          "key": "type",
          "value": "CHART"
         },
         {
          "key": "options",
          "value": {
           "alignYAxesAtZero": true,
           "coefficient": 1,
           "columnConfigurationMap": {
            "x": {
             "column": "maincateg",
             "id": "column_d1d560a162"
            },
            "y": [
             {
              "column": "sum(noreviews1)",
              "id": "column_d1d560a163",
              "transform": "SUM"
             }
            ]
           },
           "dateTimeFormat": "DD/MM/YYYY HH:mm",
           "direction": {
            "type": "counterclockwise"
           },
           "error_y": {
            "type": "data",
            "visible": true
           },
           "globalSeriesType": "column",
           "isAggregationOn": true,
           "legend": {
            "traceorder": "normal"
           },
           "missingValuesAsZero": true,
           "numberFormat": "0,0.[00000]",
           "percentFormat": "0[.]00%",
           "series": {
            "error_y": {
             "type": "data",
             "visible": true
            },
            "stacking": null
           },
           "seriesOptions": {
            "column_d1d560a163": {
             "name": "sum(noreviews1)",
             "yAxis": 0
            }
           },
           "showDataLabels": false,
           "sizemode": "diameter",
           "sortX": true,
           "sortY": true,
           "swappedAxes": false,
           "textFormat": "",
           "useAggregationsUi": true,
           "valuesOptions": {},
           "version": 2,
           "xAxis": {
            "labels": {
             "enabled": true
            },
            "type": "-"
           },
           "yAxis": [
            {
             "type": "-"
            },
            {
             "opposite": true,
             "type": "-"
            }
           ]
          }
         }
        ]
       },
       "datasetPreviewNameToCmdIdMap": {},
       "diffDeletes": [],
       "diffInserts": [],
       "displayType": "redashChart",
       "error": null,
       "errorDetails": null,
       "errorSummary": null,
       "errorTraceType": null,
       "finishTime": 0,
       "globalVars": {},
       "guid": "",
       "height": "auto",
       "hideCommandCode": false,
       "hideCommandResult": false,
       "iPythonMetadata": null,
       "inputWidgets": {},
       "isLockedInExamMode": false,
       "latestUser": "a user",
       "latestUserId": null,
       "listResultMetadata": null,
       "metadata": {},
       "nuid": "c4521c7d-a3aa-43d7-801f-7818f93520c3",
       "origId": 0,
       "parentHierarchy": [],
       "pivotAggregation": null,
       "pivotColumns": null,
       "position": 22.0,
       "resultDbfsErrorMessage": null,
       "resultDbfsStatus": "INLINED_IN_TREE",
       "results": null,
       "showCommandTitle": false,
       "startTime": 0,
       "state": "input",
       "streamStates": {},
       "subcommandOptions": {
        "queryPlan": {
         "groups": [
          {
           "column": "maincateg",
           "type": "column"
          }
         ],
         "selects": [
          {
           "column": "maincateg",
           "type": "column"
          },
          {
           "alias": "column_d1d560a163",
           "args": [
            {
             "column": "sum(noreviews1)",
             "type": "column"
            }
           ],
           "function": "SUM",
           "type": "function"
          }
         ]
        }
       },
       "submitTime": 0,
       "subtype": "tableResultSubCmd.visualization",
       "tableResultIndex": 0,
       "tableResultSettingsMap": {},
       "useConsistentColors": false,
       "version": "CommandV1",
       "width": "auto",
       "workflows": [],
       "xColumns": null,
       "yColumns": null
      }
     },
     "output_type": "display_data"
    }
   ],
   "source": [
    "# Display Bar chart of total number of reviews per category\n",
    "category_reviews = flipkart_df.groupBy(\"maincateg\").agg({\"noreviews1\": \"sum\"})\n",
    "category_reviews.display()"
   ]
  },
  {
   "cell_type": "code",
   "execution_count": 0,
   "metadata": {
    "application/vnd.databricks.v1+cell": {
     "cellMetadata": {
      "byteLimit": 2048000,
      "rowLimit": 10000
     },
     "inputWidgets": {},
     "nuid": "5f5b6c97-839b-4c3a-a8c5-4533aebf793e",
     "showTitle": true,
     "tableResultSettingsMap": {},
     "title": "Display product name and 5 star rating for those products which have highest 5 star rating"
    }
   },
   "outputs": [
    {
     "output_type": "stream",
     "name": "stdout",
     "output_type": "stream",
     "text": [
      "+--------------------+-------+\n|               title|star_5f|\n+--------------------+-------+\n|Jio-13 Running Sh...| 151193|\n|Running Shoes For...| 151193|\n|Running Shoes For...| 151173|\n|Jio-13 Running Sh...| 151160|\n|Jio-13 Running Sh...| 151159|\n|Jio-13 Running Sh...| 101250|\n|VERTIGO BLK RUNNI...|  66369|\n|Cosko Sports Shoe...|  64987|\n|Cosko Sports Shoe...|  64987|\n|Cosko Sports Shoe...|  64981|\n|Men Brown, Beige ...|  61722|\n|    Men Olive Sandal|  61722|\n|Oxygen Running Sh...|  55231|\n|Boxer-303 Sneaker...|  54272|\n|Boxer-303 Sneaker...|  54272|\n|Mesh,Cricket, Bad...|  45128|\n|Mesh,Cricket, Bad...|  45128|\n|Mesh,Cricket, Bad...|  45128|\n|Mesh,Cricket, Bad...|  45127|\n|SOCKS Running Sho...|  43374|\n+--------------------+-------+\nonly showing top 20 rows\n\n"
     ]
    }
   ],
   "source": [
    "# Display product name and 5 star rating for those products which have highest 5 star rating\n",
    "flipkart_df.filter(flipkart_df[\"star_5f\"] > 0).select(\"title\", \"star_5f\").orderBy(\"star_5f\", ascending=False).show()"
   ]
  }
 ],
 "metadata": {
  "application/vnd.databricks.v1+notebook": {
   "computePreferences": null,
   "dashboards": [],
   "environmentMetadata": null,
   "inputWidgetPreferences": null,
   "language": "python",
   "notebookMetadata": {
    "pythonIndentUnit": 4
   },
   "notebookName": "Flipkart_EDA_Assignment",
   "widgets": {}
  },
  "kernelspec": {
   "display_name": "Python 3",
   "language": "python",
   "name": "python3"
  },
  "language_info": {
   "name": "python",
   "version": "3.8"
  }
 },
 "nbformat": 4,
 "nbformat_minor": 0
}