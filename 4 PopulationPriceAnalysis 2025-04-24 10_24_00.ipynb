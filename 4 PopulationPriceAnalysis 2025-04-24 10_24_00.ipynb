{
 "cells": [
  {
   "cell_type": "code",
   "execution_count": 0,
   "metadata": {
    "application/vnd.databricks.v1+cell": {
     "cellMetadata": {
      "byteLimit": 2048000,
      "rowLimit": 10000
     },
     "inputWidgets": {},
     "nuid": "b6efd81d-1f5c-41b2-aece-fc496532a198",
     "showTitle": false,
     "tableResultSettingsMap": {},
     "title": ""
    }
   },
   "outputs": [
    {
     "output_type": "stream",
     "name": "stdout",
     "output_type": "stream",
     "text": [
      "+---------+-------------+-------+----------+------------------------+-----------------------+\n|2014 rank|         City|  State|State Code|2014 Population estimate|2015 median sales price|\n+---------+-------------+-------+----------+------------------------+-----------------------+\n|      101|   Birmingham|Alabama|        AL|                  212247|                  162.9|\n|      125|   Huntsville|Alabama|        AL|                  188226|                  157.7|\n|      122|       Mobile|Alabama|        AL|                  194675|                  122.5|\n|      114|   Montgomery|Alabama|        AL|                  200481|                  129.0|\n|       64|Anchorage[19]| Alaska|        AK|                  301010|                   null|\n+---------+-------------+-------+----------+------------------------+-----------------------+\nonly showing top 5 rows\n\n"
     ]
    }
   ],
   "source": [
    "# Load it into a DataFrame\n",
    "df = spark.read.csv(\"/databricks-datasets/samples/population-vs-price/data_geo.csv\", header=True, inferSchema=True)\n",
    "df.show(5)"
   ]
  },
  {
   "cell_type": "code",
   "execution_count": 0,
   "metadata": {
    "application/vnd.databricks.v1+cell": {
     "cellMetadata": {
      "byteLimit": 2048000,
      "rowLimit": 10000
     },
     "inputWidgets": {},
     "nuid": "57b64be0-4d47-4136-a451-5dba5b233545",
     "showTitle": false,
     "tableResultSettingsMap": {},
     "title": ""
    }
   },
   "outputs": [
    {
     "output_type": "stream",
     "name": "stdout",
     "output_type": "stream",
     "text": [
      "root\n |-- 2014 rank: integer (nullable = true)\n |-- City: string (nullable = true)\n |-- State: string (nullable = true)\n |-- State Code: string (nullable = true)\n |-- 2014 Population estimate: integer (nullable = true)\n |-- 2015 median sales price: double (nullable = true)\n\n+---------+-------------+-------+----------+------------------------+-----------------------+\n|2014 rank|         City|  State|State Code|2014 Population estimate|2015 median sales price|\n+---------+-------------+-------+----------+------------------------+-----------------------+\n|      101|   Birmingham|Alabama|        AL|                  212247|                  162.9|\n|      125|   Huntsville|Alabama|        AL|                  188226|                  157.7|\n|      122|       Mobile|Alabama|        AL|                  194675|                  122.5|\n|      114|   Montgomery|Alabama|        AL|                  200481|                  129.0|\n|       64|Anchorage[19]| Alaska|        AK|                  301010|                   null|\n+---------+-------------+-------+----------+------------------------+-----------------------+\nonly showing top 5 rows\n\n"
     ]
    }
   ],
   "source": [
    "# Load the dataset from DBFS (Databricks Filesystem)\n",
    "file_path = \"/databricks-datasets/samples/population-vs-price/data_geo.csv\"\n",
    "df = spark.read.csv(file_path, header=True, inferSchema=True)\n",
    "df.printSchema()\n",
    "df.show(5)"
   ]
  },
  {
   "cell_type": "markdown",
   "metadata": {
    "application/vnd.databricks.v1+cell": {
     "cellMetadata": {
      "byteLimit": 2048000,
      "rowLimit": 10000
     },
     "inputWidgets": {},
     "nuid": "d74e65ee-640a-4a11-964b-c0e27a188c65",
     "showTitle": false,
     "tableResultSettingsMap": {},
     "title": ""
    }
   },
   "source": [
    "# Columns\n",
    "\n",
    "- **2014 rank**: City ranking based on population\n",
    "- **City**: Name of the city\n",
    "- **State**: Full name of the state\n",
    "- **State Code**: Abbreviation of the state\n",
    "- **2014 Population estimate**: Estimated population\n",
    "- **2015 median sales price**: Median house sales price"
   ]
  },
  {
   "cell_type": "code",
   "execution_count": 0,
   "metadata": {
    "application/vnd.databricks.v1+cell": {
     "cellMetadata": {
      "byteLimit": 2048000,
      "rowLimit": 10000
     },
     "inputWidgets": {},
     "nuid": "bf208700-76c2-4872-b0c5-07400c077c69",
     "showTitle": false,
     "tableResultSettingsMap": {},
     "title": ""
    }
   },
   "outputs": [
    {
     "output_type": "display_data",
     "data": {
      "text/html": [
       "<style scoped>\n",
       "  .table-result-container {\n",
       "    max-height: 300px;\n",
       "    overflow: auto;\n",
       "  }\n",
       "  table, th, td {\n",
       "    border: 1px solid black;\n",
       "    border-collapse: collapse;\n",
       "  }\n",
       "  th, td {\n",
       "    padding: 5px;\n",
       "  }\n",
       "  th {\n",
       "    text-align: left;\n",
       "  }\n",
       "</style><div class='table-result-container'><table class='table-result'><thead style='background-color: white'><tr><th>City</th><th>State</th><th>State Code</th><th>2014 Population estimate</th><th>2015 median sales price</th></tr></thead><tbody><tr><td>Birmingham</td><td>Alabama</td><td>AL</td><td>212247</td><td>162.9</td></tr><tr><td>Huntsville</td><td>Alabama</td><td>AL</td><td>188226</td><td>157.7</td></tr><tr><td>Mobile</td><td>Alabama</td><td>AL</td><td>194675</td><td>122.5</td></tr><tr><td>Montgomery</td><td>Alabama</td><td>AL</td><td>200481</td><td>129.0</td></tr><tr><td>Anchorage[19]</td><td>Alaska</td><td>AK</td><td>301010</td><td>null</td></tr><tr><td>Chandler</td><td>Arizona</td><td>AZ</td><td>254276</td><td>null</td></tr><tr><td>Gilbert[20]</td><td>Arizona</td><td>AZ</td><td>239277</td><td>null</td></tr><tr><td>Glendale</td><td>Arizona</td><td>AZ</td><td>237517</td><td>null</td></tr><tr><td>Mesa</td><td>Arizona</td><td>AZ</td><td>464704</td><td>null</td></tr><tr><td>Peoria</td><td>Arizona</td><td>AZ</td><td>166934</td><td>null</td></tr><tr><td>Phoenix</td><td>Arizona</td><td>AZ</td><td>1537058</td><td>206.1</td></tr><tr><td>Scottsdale</td><td>Arizona</td><td>AZ</td><td>230512</td><td>null</td></tr><tr><td>Surprise</td><td>Arizona</td><td>AZ</td><td>126275</td><td>null</td></tr><tr><td>Tempe</td><td>Arizona</td><td>AZ</td><td>172816</td><td>null</td></tr><tr><td>Tucson</td><td>Arizona</td><td>AZ</td><td>527972</td><td>178.1</td></tr><tr><td>Little Rock</td><td>Arkansas</td><td>AR</td><td>197706</td><td>131.8</td></tr><tr><td>Anaheim</td><td>California</td><td>CA</td><td>346997</td><td>685.7</td></tr><tr><td>Antioch</td><td>California</td><td>CA</td><td>108930</td><td>null</td></tr><tr><td>Bakersfield</td><td>California</td><td>CA</td><td>368759</td><td>null</td></tr><tr><td>Berkeley</td><td>California</td><td>CA</td><td>118853</td><td>null</td></tr><tr><td>Burbank</td><td>California</td><td>CA</td><td>105368</td><td>null</td></tr><tr><td>Carlsbad</td><td>California</td><td>CA</td><td>112299</td><td>null</td></tr><tr><td>Chula Vista</td><td>California</td><td>CA</td><td>260988</td><td>null</td></tr><tr><td>Clovis</td><td>California</td><td>CA</td><td>102189</td><td>null</td></tr><tr><td>Concord</td><td>California</td><td>CA</td><td>127522</td><td>null</td></tr><tr><td>Corona</td><td>California</td><td>CA</td><td>161486</td><td>null</td></tr><tr><td>Costa Mesa</td><td>California</td><td>CA</td><td>112784</td><td>null</td></tr><tr><td>Daly City</td><td>California</td><td>CA</td><td>106094</td><td>null</td></tr><tr><td>Downey</td><td>California</td><td>CA</td><td>114172</td><td>null</td></tr><tr><td>El Cajon</td><td>California</td><td>CA</td><td>103091</td><td>null</td></tr><tr><td>El Monte</td><td>California</td><td>CA</td><td>116631</td><td>null</td></tr><tr><td>Elk Grove</td><td>California</td><td>CA</td><td>163553</td><td>null</td></tr><tr><td>Escondido</td><td>California</td><td>CA</td><td>150243</td><td>null</td></tr><tr><td>Fairfield</td><td>California</td><td>CA</td><td>111125</td><td>null</td></tr><tr><td>Fontana</td><td>California</td><td>CA</td><td>204950</td><td>null</td></tr><tr><td>Fremont</td><td>California</td><td>CA</td><td>228758</td><td>null</td></tr><tr><td>Fresno</td><td>California</td><td>CA</td><td>515986</td><td>null</td></tr><tr><td>Fullerton</td><td>California</td><td>CA</td><td>139677</td><td>null</td></tr><tr><td>Garden Grove</td><td>California</td><td>CA</td><td>175078</td><td>null</td></tr><tr><td>Glendale</td><td>California</td><td>CA</td><td>200167</td><td>null</td></tr><tr><td>Hayward</td><td>California</td><td>CA</td><td>154612</td><td>null</td></tr><tr><td>Huntington Beach</td><td>California</td><td>CA</td><td>200809</td><td>null</td></tr><tr><td>Inglewood</td><td>California</td><td>CA</td><td>111905</td><td>null</td></tr><tr><td>Irvine</td><td>California</td><td>CA</td><td>248531</td><td>null</td></tr><tr><td>Lancaster</td><td>California</td><td>CA</td><td>161043</td><td>null</td></tr><tr><td>Long Beach</td><td>California</td><td>CA</td><td>473577</td><td>null</td></tr><tr><td>Los Angeles</td><td>California</td><td>CA</td><td>3928864</td><td>434.7</td></tr><tr><td>Modesto</td><td>California</td><td>CA</td><td>209286</td><td>null</td></tr><tr><td>Moreno Valley</td><td>California</td><td>CA</td><td>202976</td><td>null</td></tr><tr><td>Murrieta</td><td>California</td><td>CA</td><td>108368</td><td>null</td></tr><tr><td>Norwalk</td><td>California</td><td>CA</td><td>107096</td><td>null</td></tr><tr><td>Oakland</td><td>California</td><td>CA</td><td>413775</td><td>null</td></tr><tr><td>Oceanside</td><td>California</td><td>CA</td><td>174558</td><td>null</td></tr><tr><td>Ontario</td><td>California</td><td>CA</td><td>169089</td><td>null</td></tr><tr><td>Orange</td><td>California</td><td>CA</td><td>139812</td><td>null</td></tr><tr><td>Oxnard</td><td>California</td><td>CA</td><td>205437</td><td>null</td></tr><tr><td>Palmdale</td><td>California</td><td>CA</td><td>158279</td><td>null</td></tr><tr><td>Pasadena</td><td>California</td><td>CA</td><td>140881</td><td>null</td></tr><tr><td>Pomona</td><td>California</td><td>CA</td><td>153350</td><td>null</td></tr><tr><td>Rancho Cucamonga</td><td>California</td><td>CA</td><td>174305</td><td>null</td></tr><tr><td>Rialto</td><td>California</td><td>CA</td><td>102741</td><td>null</td></tr><tr><td>Richmond</td><td>California</td><td>CA</td><td>108565</td><td>null</td></tr><tr><td>Riverside</td><td>California</td><td>CA</td><td>319504</td><td>281.0</td></tr><tr><td>Roseville</td><td>California</td><td>CA</td><td>128615</td><td>null</td></tr><tr><td>Sacramento</td><td>California</td><td>CA</td><td>485199</td><td>275.8</td></tr><tr><td>Salinas</td><td>California</td><td>CA</td><td>156677</td><td>null</td></tr><tr><td>San Bernardino</td><td>California</td><td>CA</td><td>215213</td><td>null</td></tr><tr><td>San Diego</td><td>California</td><td>CA</td><td>1381069</td><td>510.3</td></tr><tr><td>San Francisco[10]</td><td>California</td><td>CA</td><td>852469</td><td>748.3</td></tr><tr><td>San Jose</td><td>California</td><td>CA</td><td>1015785</td><td>900.0</td></tr><tr><td>San Mateo</td><td>California</td><td>CA</td><td>102893</td><td>null</td></tr><tr><td>Santa Ana</td><td>California</td><td>CA</td><td>334909</td><td>null</td></tr><tr><td>Santa Clara</td><td>California</td><td>CA</td><td>122192</td><td>null</td></tr><tr><td>Santa Clarita</td><td>California</td><td>CA</td><td>181557</td><td>null</td></tr><tr><td>Santa Maria</td><td>California</td><td>CA</td><td>103410</td><td>null</td></tr><tr><td>Santa Rosa</td><td>California</td><td>CA</td><td>174170</td><td>null</td></tr><tr><td>Simi Valley</td><td>California</td><td>CA</td><td>126871</td><td>null</td></tr><tr><td>Stockton</td><td>California</td><td>CA</td><td>302389</td><td>null</td></tr><tr><td>Sunnyvale</td><td>California</td><td>CA</td><td>149980</td><td>null</td></tr><tr><td>Temecula</td><td>California</td><td>CA</td><td>109428</td><td>null</td></tr><tr><td>Thousand Oaks</td><td>California</td><td>CA</td><td>129342</td><td>null</td></tr><tr><td>Torrance</td><td>California</td><td>CA</td><td>148495</td><td>null</td></tr><tr><td>Vallejo</td><td>California</td><td>CA</td><td>120228</td><td>null</td></tr><tr><td>Ventura[29]</td><td>California</td><td>CA</td><td>109484</td><td>null</td></tr><tr><td>Victorville</td><td>California</td><td>CA</td><td>121901</td><td>null</td></tr><tr><td>Visalia</td><td>California</td><td>CA</td><td>129281</td><td>null</td></tr><tr><td>West Covina</td><td>California</td><td>CA</td><td>108455</td><td>null</td></tr><tr><td>Arvada</td><td>Colorado</td><td>CO</td><td>113574</td><td>null</td></tr><tr><td>Aurora</td><td>Colorado</td><td>CO</td><td>353108</td><td>null</td></tr><tr><td>Boulder</td><td>Colorado</td><td>CO</td><td>105112</td><td>442.2</td></tr><tr><td>Centennial</td><td>Colorado</td><td>CO</td><td>107201</td><td>null</td></tr><tr><td>Colorado Springs</td><td>Colorado</td><td>CO</td><td>445830</td><td>220.1</td></tr><tr><td>Denver[12]</td><td>Colorado</td><td>CO</td><td>663862</td><td>338.1</td></tr><tr><td>Fort Collins</td><td>Colorado</td><td>CO</td><td>156480</td><td>null</td></tr><tr><td>Lakewood</td><td>Colorado</td><td>CO</td><td>149643</td><td>null</td></tr><tr><td>Pueblo</td><td>Colorado</td><td>CO</td><td>108423</td><td>null</td></tr><tr><td>Thornton</td><td>Colorado</td><td>CO</td><td>130307</td><td>null</td></tr><tr><td>Westminster</td><td>Colorado</td><td>CO</td><td>112090</td><td>null</td></tr><tr><td>Bridgeport</td><td>Connecticut</td><td>CT</td><td>147612</td><td>342.7</td></tr><tr><td>Hartford</td><td>Connecticut</td><td>CT</td><td>124705</td><td>202.6</td></tr><tr><td>New Haven</td><td>Connecticut</td><td>CT</td><td>130282</td><td>205.1</td></tr><tr><td>Stamford</td><td>Connecticut</td><td>CT</td><td>128278</td><td>null</td></tr><tr><td>Waterbury</td><td>Connecticut</td><td>CT</td><td>109307</td><td>null</td></tr><tr><td>Washington[13]</td><td>District of Columbia</td><td>DC</td><td>658893</td><td>367.8</td></tr><tr><td>Cape Coral</td><td>Florida</td><td>FL</td><td>169854</td><td>208.0</td></tr><tr><td>Clearwater</td><td>Florida</td><td>FL</td><td>110703</td><td>null</td></tr><tr><td>Coral Springs</td><td>Florida</td><td>FL</td><td>127952</td><td>null</td></tr><tr><td>Fort Lauderdale</td><td>Florida</td><td>FL</td><td>176013</td><td>null</td></tr><tr><td>Gainesville</td><td>Florida</td><td>FL</td><td>128460</td><td>169.9</td></tr><tr><td>Hialeah</td><td>Florida</td><td>FL</td><td>235563</td><td>null</td></tr><tr><td>Hollywood</td><td>Florida</td><td>FL</td><td>148047</td><td>null</td></tr><tr><td>Jacksonville[9]</td><td>Florida</td><td>FL</td><td>853382</td><td>182.5</td></tr><tr><td>Lakeland</td><td>Florida</td><td>FL</td><td>102346</td><td>136.0</td></tr><tr><td>Miami</td><td>Florida</td><td>FL</td><td>430332</td><td>269.1</td></tr><tr><td>Miami Gardens</td><td>Florida</td><td>FL</td><td>112265</td><td>null</td></tr><tr><td>Miramar</td><td>Florida</td><td>FL</td><td>134989</td><td>null</td></tr><tr><td>Orlando</td><td>Florida</td><td>FL</td><td>262372</td><td>null</td></tr><tr><td>Palm Bay</td><td>Florida</td><td>FL</td><td>105838</td><td>145.0</td></tr><tr><td>Pembroke Pines</td><td>Florida</td><td>FL</td><td>164626</td><td>null</td></tr><tr><td>Pompano Beach</td><td>Florida</td><td>FL</td><td>106105</td><td>null</td></tr><tr><td>Port St. Lucie</td><td>Florida</td><td>FL</td><td>174110</td><td>172.0</td></tr><tr><td>St. Petersburg</td><td>Florida</td><td>FL</td><td>253693</td><td>null</td></tr><tr><td>Tallahassee</td><td>Florida</td><td>FL</td><td>188107</td><td>170.5</td></tr><tr><td>Tampa</td><td>Florida</td><td>FL</td><td>358699</td><td>156.0</td></tr><tr><td>West Palm Beach</td><td>Florida</td><td>FL</td><td>104031</td><td>null</td></tr><tr><td>Athens[28]</td><td>Georgia</td><td>GA</td><td>119648</td><td>null</td></tr><tr><td>Atlanta</td><td>Georgia</td><td>GA</td><td>456002</td><td>158.0</td></tr><tr><td>Augusta[24]</td><td>Georgia</td><td>GA</td><td>196741</td><td>null</td></tr><tr><td>Columbus[23]</td><td>Georgia</td><td>GA</td><td>200887</td><td>null</td></tr><tr><td>Macon</td><td>Georgia</td><td>GA</td><td>null</td><td>null</td></tr><tr><td>Sandy Springs</td><td>Georgia</td><td>GA</td><td>101908</td><td>null</td></tr><tr><td>Savannah</td><td>Georgia</td><td>GA</td><td>144352</td><td>null</td></tr><tr><td>Honolulu[2]</td><td>Hawai'i</td><td>HI</td><td>350399</td><td>699.3</td></tr><tr><td>Boise[22]</td><td>Idaho</td><td>ID</td><td>216282</td><td>178.7</td></tr><tr><td>Aurora</td><td>Illinois</td><td>IL</td><td>200456</td><td>null</td></tr><tr><td>Chicago</td><td>Illinois</td><td>IL</td><td>2722389</td><td>192.5</td></tr><tr><td>Elgin</td><td>Illinois</td><td>IL</td><td>111117</td><td>null</td></tr><tr><td>Joliet</td><td>Illinois</td><td>IL</td><td>147928</td><td>null</td></tr><tr><td>Naperville</td><td>Illinois</td><td>IL</td><td>146128</td><td>null</td></tr><tr><td>Peoria</td><td>Illinois</td><td>IL</td><td>115828</td><td>105.2</td></tr><tr><td>Rockford</td><td>Illinois</td><td>IL</td><td>149123</td><td>78.6</td></tr><tr><td>Springfield</td><td>Illinois</td><td>IL</td><td>116809</td><td>115.2</td></tr><tr><td>Evansville</td><td>Indiana</td><td>IN</td><td>120346</td><td>null</td></tr><tr><td>Fort Wayne</td><td>Indiana</td><td>IN</td><td>258522</td><td>106.3</td></tr><tr><td>Indianapolis[11]</td><td>Indiana</td><td>IN</td><td>848788</td><td>139.2</td></tr><tr><td>Cedar Rapids</td><td>Iowa</td><td>IA</td><td>129195</td><td>156.9</td></tr><tr><td>Davenport</td><td>Iowa</td><td>IA</td><td>102448</td><td>109.4</td></tr><tr><td>Des Moines</td><td>Iowa</td><td>IA</td><td>209220</td><td>null</td></tr><tr><td>Kansas City[26]</td><td>Kansas</td><td>KS</td><td>149636</td><td>null</td></tr><tr><td>Olathe</td><td>Kansas</td><td>KS</td><td>133062</td><td>null</td></tr><tr><td>Overland Park</td><td>Kansas</td><td>KS</td><td>184525</td><td>null</td></tr><tr><td>Topeka</td><td>Kansas</td><td>KS</td><td>127215</td><td>105.3</td></tr><tr><td>Wichita</td><td>Kansas</td><td>KS</td><td>388413</td><td>126.0</td></tr><tr><td>Lexington[18]</td><td>Kentucky</td><td>KY</td><td>310797</td><td>141.2</td></tr><tr><td>Louisville[16]</td><td>Kentucky</td><td>KY</td><td>612780</td><td>141.1</td></tr><tr><td>Baton Rouge[21]</td><td>Louisiana</td><td>LA</td><td>228895</td><td>177.2</td></tr><tr><td>Lafayette[27]</td><td>Louisiana</td><td>LA</td><td>126066</td><td>null</td></tr><tr><td>New Orleans[17]</td><td>Louisiana</td><td>LA</td><td>384320</td><td>null</td></tr><tr><td>Shreveport</td><td>Louisiana</td><td>LA</td><td>198242</td><td>151.6</td></tr><tr><td>Baltimore[15]</td><td>Maryland</td><td>MD</td><td>622793</td><td>223.1</td></tr><tr><td>Boston</td><td>Massachusetts</td><td>MA</td><td>655884</td><td>374.6</td></tr><tr><td>Cambridge</td><td>Massachusetts</td><td>MA</td><td>109694</td><td>null</td></tr><tr><td>Lowell</td><td>Massachusetts</td><td>MA</td><td>109945</td><td>null</td></tr><tr><td>Springfield</td><td>Massachusetts</td><td>MA</td><td>153991</td><td>183.9</td></tr><tr><td>Worcester</td><td>Massachusetts</td><td>MA</td><td>183016</td><td>226.9</td></tr><tr><td>Ann Arbor</td><td>Michigan</td><td>MI</td><td>117770</td><td>null</td></tr><tr><td>Detroit</td><td>Michigan</td><td>MI</td><td>680250</td><td>null</td></tr><tr><td>Grand Rapids</td><td>Michigan</td><td>MI</td><td>193792</td><td>null</td></tr><tr><td>Lansing</td><td>Michigan</td><td>MI</td><td>114620</td><td>114.6</td></tr><tr><td>Sterling Heights</td><td>Michigan</td><td>MI</td><td>131741</td><td>null</td></tr><tr><td>Warren</td><td>Michigan</td><td>MI</td><td>135099</td><td>null</td></tr><tr><td>Minneapolis</td><td>Minnesota</td><td>MN</td><td>407207</td><td>209.4</td></tr><tr><td>Rochester</td><td>Minnesota</td><td>MN</td><td>111402</td><td>null</td></tr><tr><td>Saint Paul</td><td>Minnesota</td><td>MN</td><td>297640</td><td>null</td></tr><tr><td>Jackson</td><td>Mississippi</td><td>MS</td><td>171155</td><td>154.1</td></tr><tr><td>Columbia</td><td>Missouri</td><td>MO</td><td>116906</td><td>null</td></tr><tr><td>Independence</td><td>Missouri</td><td>MO</td><td>117494</td><td>null</td></tr><tr><td>Kansas City</td><td>Missouri</td><td>MO</td><td>470800</td><td>153.0</td></tr><tr><td>Springfield</td><td>Missouri</td><td>MO</td><td>165378</td><td>116.5</td></tr><tr><td>St. Louis[15]</td><td>Missouri</td><td>MO</td><td>317419</td><td>null</td></tr><tr><td>Billings</td><td>Montana</td><td>MT</td><td>108869</td><td>null</td></tr><tr><td>Lincoln</td><td>Nebraska</td><td>NE</td><td>272996</td><td>150.2</td></tr><tr><td>Omaha</td><td>Nebraska</td><td>NE</td><td>446599</td><td>148.1</td></tr><tr><td>Henderson</td><td>Nevada</td><td>NV</td><td>277440</td><td>null</td></tr><tr><td>Las Vegas</td><td>Nevada</td><td>NV</td><td>613599</td><td>205.9</td></tr><tr><td>North Las Vegas</td><td>Nevada</td><td>NV</td><td>230788</td><td>null</td></tr><tr><td>Reno</td><td>Nevada</td><td>NV</td><td>236995</td><td>268.7</td></tr><tr><td>Manchester</td><td>New Hampshire</td><td>NH</td><td>110448</td><td>237.4</td></tr><tr><td>Elizabeth</td><td>New Jersey</td><td>NJ</td><td>128705</td><td>null</td></tr><tr><td>Jersey City</td><td>New Jersey</td><td>NJ</td><td>262146</td><td>null</td></tr><tr><td>Newark</td><td>New Jersey</td><td>NJ</td><td>280579</td><td>350.8</td></tr><tr><td>Paterson</td><td>New Jersey</td><td>NJ</td><td>146753</td><td>null</td></tr><tr><td>Albuquerque</td><td>New Mexico</td><td>NM</td><td>557169</td><td>172.2</td></tr><tr><td>Las Cruces</td><td>New Mexico</td><td>NM</td><td>101408</td><td>null</td></tr><tr><td>Buffalo</td><td>New York</td><td>NY</td><td>258703</td><td>117.3</td></tr><tr><td>New York[6]</td><td>New York</td><td>NY</td><td>8491079</td><td>388.6</td></tr><tr><td>Rochester</td><td>New York</td><td>NY</td><td>209983</td><td>118.9</td></tr><tr><td>Syracuse</td><td>New York</td><td>NY</td><td>144263</td><td>118.3</td></tr><tr><td>Yonkers</td><td>New York</td><td>NY</td><td>200667</td><td>null</td></tr><tr><td>Cary[25]</td><td>North Carolina</td><td>NC</td><td>155227</td><td>null</td></tr><tr><td>Charlotte</td><td>North Carolina</td><td>NC</td><td>809958</td><td>197.2</td></tr><tr><td>Durham</td><td>North Carolina</td><td>NC</td><td>251893</td><td>196.9</td></tr><tr><td>Fayetteville</td><td>North Carolina</td><td>NC</td><td>203948</td><td>145.0</td></tr><tr><td>Greensboro</td><td>North Carolina</td><td>NC</td><td>282586</td><td>138.3</td></tr><tr><td>High Point</td><td>North Carolina</td><td>NC</td><td>108629</td><td>null</td></tr><tr><td>Raleigh</td><td>North Carolina</td><td>NC</td><td>439896</td><td>218.9</td></tr><tr><td>Wilmington</td><td>North Carolina</td><td>NC</td><td>113657</td><td>197.5</td></tr><tr><td>Winston�Salem</td><td>North Carolina</td><td>NC</td><td>239269</td><td>138.6</td></tr><tr><td>Fargo</td><td>North Dakota</td><td>ND</td><td>115863</td><td>180.0</td></tr><tr><td>Akron</td><td>Ohio</td><td>OH</td><td>197859</td><td>95.4</td></tr><tr><td>Cincinnati</td><td>Ohio</td><td>OH</td><td>298165</td><td>135.0</td></tr><tr><td>Cleveland</td><td>Ohio</td><td>OH</td><td>389521</td><td>105.9</td></tr><tr><td>Columbus</td><td>Ohio</td><td>OH</td><td>835957</td><td>149.9</td></tr><tr><td>Dayton</td><td>Ohio</td><td>OH</td><td>141003</td><td>107.2</td></tr><tr><td>Toledo</td><td>Ohio</td><td>OH</td><td>281031</td><td>83.8</td></tr><tr><td>Broken Arrow</td><td>Oklahoma</td><td>OK</td><td>104726</td><td>null</td></tr><tr><td>Norman</td><td>Oklahoma</td><td>OK</td><td>118040</td><td>null</td></tr><tr><td>Oklahoma City</td><td>Oklahoma</td><td>OK</td><td>620602</td><td>null</td></tr><tr><td>Tulsa</td><td>Oklahoma</td><td>OK</td><td>399682</td><td>145.1</td></tr><tr><td>Eugene</td><td>Oregon</td><td>OR</td><td>160561</td><td>211.3</td></tr><tr><td>Gresham</td><td>Oregon</td><td>OR</td><td>109892</td><td>null</td></tr><tr><td>Portland</td><td>Oregon</td><td>OR</td><td>619360</td><td>289.4</td></tr><tr><td>Salem</td><td>Oregon</td><td>OR</td><td>161637</td><td>193.9</td></tr><tr><td>Allentown</td><td>Pennsylvania</td><td>PA</td><td>119104</td><td>162.7</td></tr><tr><td>Philadelphia[8]</td><td>Pennsylvania</td><td>PA</td><td>1560297</td><td>204.9</td></tr><tr><td>Pittsburgh</td><td>Pennsylvania</td><td>PA</td><td>305412</td><td>null</td></tr><tr><td>Providence</td><td>Rhode Island</td><td>RI</td><td>179154</td><td>233.3</td></tr><tr><td>Charleston</td><td>South Carolina</td><td>SC</td><td>130113</td><td>null</td></tr><tr><td>Columbia</td><td>South Carolina</td><td>SC</td><td>132067</td><td>null</td></tr><tr><td>North Charleston</td><td>South Carolina</td><td>SC</td><td>106749</td><td>null</td></tr><tr><td>Sioux Falls</td><td>South Dakota</td><td>SD</td><td>168586</td><td>159.5</td></tr><tr><td>Chattanooga</td><td>Tennessee</td><td>TN</td><td>173778</td><td>143.6</td></tr><tr><td>Clarksville</td><td>Tennessee</td><td>TN</td><td>146806</td><td>null</td></tr><tr><td>Knoxville</td><td>Tennessee</td><td>TN</td><td>184281</td><td>149.2</td></tr><tr><td>Memphis</td><td>Tennessee</td><td>TN</td><td>656861</td><td>132.1</td></tr><tr><td>Murfreesboro</td><td>Tennessee</td><td>TN</td><td>120954</td><td>null</td></tr><tr><td>Nashville[14]</td><td>Tennessee</td><td>TN</td><td>644014</td><td>186.4</td></tr><tr><td>Abilene</td><td>Texas</td><td>TX</td><td>120958</td><td>145.7</td></tr><tr><td>Amarillo</td><td>Texas</td><td>TX</td><td>197254</td><td>144.4</td></tr><tr><td>Arlington</td><td>Texas</td><td>TX</td><td>383204</td><td>null</td></tr><tr><td>Austin</td><td>Texas</td><td>TX</td><td>912791</td><td>249.1</td></tr><tr><td>Beaumont</td><td>Texas</td><td>TX</td><td>117585</td><td>133.3</td></tr><tr><td>Brownsville</td><td>Texas</td><td>TX</td><td>183046</td><td>null</td></tr><tr><td>Carrollton</td><td>Texas</td><td>TX</td><td>128353</td><td>null</td></tr><tr><td>College Station</td><td>Texas</td><td>TX</td><td>103483</td><td>null</td></tr><tr><td>Corpus Christi</td><td>Texas</td><td>TX</td><td>320434</td><td>172.9</td></tr><tr><td>Dallas</td><td>Texas</td><td>TX</td><td>1281047</td><td>192.5</td></tr><tr><td>Denton</td><td>Texas</td><td>TX</td><td>128205</td><td>null</td></tr><tr><td>El Paso</td><td>Texas</td><td>TX</td><td>679036</td><td>138.4</td></tr><tr><td>Fort Worth</td><td>Texas</td><td>TX</td><td>812238</td><td>null</td></tr><tr><td>Frisco</td><td>Texas</td><td>TX</td><td>145035</td><td>null</td></tr><tr><td>Garland</td><td>Texas</td><td>TX</td><td>235501</td><td>null</td></tr><tr><td>Grand Prairie</td><td>Texas</td><td>TX</td><td>185453</td><td>null</td></tr><tr><td>Houston[7]</td><td>Texas</td><td>TX</td><td>2239558</td><td>200.3</td></tr><tr><td>Irving</td><td>Texas</td><td>TX</td><td>232406</td><td>null</td></tr><tr><td>Killeen</td><td>Texas</td><td>TX</td><td>138154</td><td>null</td></tr><tr><td>Laredo</td><td>Texas</td><td>TX</td><td>252309</td><td>null</td></tr><tr><td>Lewisville</td><td>Texas</td><td>TX</td><td>102889</td><td>null</td></tr><tr><td>Lubbock</td><td>Texas</td><td>TX</td><td>243839</td><td>null</td></tr><tr><td>McAllen</td><td>Texas</td><td>TX</td><td>138596</td><td>null</td></tr><tr><td>McKinney</td><td>Texas</td><td>TX</td><td>156767</td><td>null</td></tr><tr><td>Mesquite</td><td>Texas</td><td>TX</td><td>144416</td><td>null</td></tr><tr><td>Midland</td><td>Texas</td><td>TX</td><td>128037</td><td>null</td></tr><tr><td>Odessa</td><td>Texas</td><td>TX</td><td>114597</td><td>null</td></tr><tr><td>Pasadena</td><td>Texas</td><td>TX</td><td>153887</td><td>null</td></tr><tr><td>Pearland</td><td>Texas</td><td>TX</td><td>103441</td><td>null</td></tr><tr><td>Plano</td><td>Texas</td><td>TX</td><td>278480</td><td>null</td></tr><tr><td>Richardson</td><td>Texas</td><td>TX</td><td>108617</td><td>null</td></tr><tr><td>Round Rock</td><td>Texas</td><td>TX</td><td>112744</td><td>null</td></tr><tr><td>San Antonio</td><td>Texas</td><td>TX</td><td>1436697</td><td>184.7</td></tr><tr><td>Tyler</td><td>Texas</td><td>TX</td><td>101421</td><td>null</td></tr><tr><td>Waco</td><td>Texas</td><td>TX</td><td>130194</td><td>null</td></tr><tr><td>Wichita Falls</td><td>Texas</td><td>TX</td><td>105114</td><td>null</td></tr><tr><td>Provo</td><td>Utah</td><td>UT</td><td>114801</td><td>null</td></tr><tr><td>Salt Lake City</td><td>Utah</td><td>UT</td><td>190884</td><td>243.3</td></tr><tr><td>West Jordan</td><td>Utah</td><td>UT</td><td>110920</td><td>null</td></tr><tr><td>West Valley City</td><td>Utah</td><td>UT</td><td>134495</td><td>null</td></tr><tr><td>Alexandria[15]</td><td>Virginia</td><td>VA</td><td>150575</td><td>null</td></tr><tr><td>Chesapeake[15]</td><td>Virginia</td><td>VA</td><td>233371</td><td>null</td></tr><tr><td>Hampton[15]</td><td>Virginia</td><td>VA</td><td>136879</td><td>null</td></tr><tr><td>Newport News[15]</td><td>Virginia</td><td>VA</td><td>182965</td><td>null</td></tr><tr><td>Norfolk[15]</td><td>Virginia</td><td>VA</td><td>245428</td><td>null</td></tr><tr><td>Richmond[15]</td><td>Virginia</td><td>VA</td><td>217853</td><td>212.5</td></tr><tr><td>Virginia Beach[15]</td><td>Virginia</td><td>VA</td><td>450980</td><td>190.0</td></tr><tr><td>Bellevue</td><td>Washington</td><td>WA</td><td>136426</td><td>null</td></tr><tr><td>Everett</td><td>Washington</td><td>WA</td><td>106736</td><td>null</td></tr><tr><td>Kent</td><td>Washington</td><td>WA</td><td>125560</td><td>null</td></tr><tr><td>Seattle</td><td>Washington</td><td>WA</td><td>668342</td><td>352.4</td></tr><tr><td>Spokane</td><td>Washington</td><td>WA</td><td>212052</td><td>180.2</td></tr><tr><td>Tacoma</td><td>Washington</td><td>WA</td><td>205159</td><td>null</td></tr><tr><td>Vancouver</td><td>Washington</td><td>WA</td><td>169294</td><td>null</td></tr><tr><td>Green Bay</td><td>Wisconsin</td><td>WI</td><td>104891</td><td>null</td></tr><tr><td>Madison</td><td>Wisconsin</td><td>WI</td><td>245691</td><td>226.2</td></tr><tr><td>Milwaukee</td><td>Wisconsin</td><td>WI</td><td>599642</td><td>195.4</td></tr></tbody></table></div>"
      ]
     },
     "metadata": {
      "application/vnd.databricks.v1+output": {
       "addedWidgets": {},
       "aggData": [],
       "aggError": "",
       "aggOverflow": false,
       "aggSchema": [],
       "aggSeriesLimitReached": false,
       "aggType": "",
       "arguments": {},
       "columnCustomDisplayInfos": {},
       "data": [
        [
         "Birmingham",
         "Alabama",
         "AL",
         212247,
         162.9
        ],
        [
         "Huntsville",
         "Alabama",
         "AL",
         188226,
         157.7
        ],
        [
         "Mobile",
         "Alabama",
         "AL",
         194675,
         122.5
        ],
        [
         "Montgomery",
         "Alabama",
         "AL",
         200481,
         129.0
        ],
        [
         "Anchorage[19]",
         "Alaska",
         "AK",
         301010,
         null
        ],
        [
         "Chandler",
         "Arizona",
         "AZ",
         254276,
         null
        ],
        [
         "Gilbert[20]",
         "Arizona",
         "AZ",
         239277,
         null
        ],
        [
         "Glendale",
         "Arizona",
         "AZ",
         237517,
         null
        ],
        [
         "Mesa",
         "Arizona",
         "AZ",
         464704,
         null
        ],
        [
         "Peoria",
         "Arizona",
         "AZ",
         166934,
         null
        ],
        [
         "Phoenix",
         "Arizona",
         "AZ",
         1537058,
         206.1
        ],
        [
         "Scottsdale",
         "Arizona",
         "AZ",
         230512,
         null
        ],
        [
         "Surprise",
         "Arizona",
         "AZ",
         126275,
         null
        ],
        [
         "Tempe",
         "Arizona",
         "AZ",
         172816,
         null
        ],
        [
         "Tucson",
         "Arizona",
         "AZ",
         527972,
         178.1
        ],
        [
         "Little Rock",
         "Arkansas",
         "AR",
         197706,
         131.8
        ],
        [
         "Anaheim",
         "California",
         "CA",
         346997,
         685.7
        ],
        [
         "Antioch",
         "California",
         "CA",
         108930,
         null
        ],
        [
         "Bakersfield",
         "California",
         "CA",
         368759,
         null
        ],
        [
         "Berkeley",
         "California",
         "CA",
         118853,
         null
        ],
        [
         "Burbank",
         "California",
         "CA",
         105368,
         null
        ],
        [
         "Carlsbad",
         "California",
         "CA",
         112299,
         null
        ],
        [
         "Chula Vista",
         "California",
         "CA",
         260988,
         null
        ],
        [
         "Clovis",
         "California",
         "CA",
         102189,
         null
        ],
        [
         "Concord",
         "California",
         "CA",
         127522,
         null
        ],
        [
         "Corona",
         "California",
         "CA",
         161486,
         null
        ],
        [
         "Costa Mesa",
         "California",
         "CA",
         112784,
         null
        ],
        [
         "Daly City",
         "California",
         "CA",
         106094,
         null
        ],
        [
         "Downey",
         "California",
         "CA",
         114172,
         null
        ],
        [
         "El Cajon",
         "California",
         "CA",
         103091,
         null
        ],
        [
         "El Monte",
         "California",
         "CA",
         116631,
         null
        ],
        [
         "Elk Grove",
         "California",
         "CA",
         163553,
         null
        ],
        [
         "Escondido",
         "California",
         "CA",
         150243,
         null
        ],
        [
         "Fairfield",
         "California",
         "CA",
         111125,
         null
        ],
        [
         "Fontana",
         "California",
         "CA",
         204950,
         null
        ],
        [
         "Fremont",
         "California",
         "CA",
         228758,
         null
        ],
        [
         "Fresno",
         "California",
         "CA",
         515986,
         null
        ],
        [
         "Fullerton",
         "California",
         "CA",
         139677,
         null
        ],
        [
         "Garden Grove",
         "California",
         "CA",
         175078,
         null
        ],
        [
         "Glendale",
         "California",
         "CA",
         200167,
         null
        ],
        [
         "Hayward",
         "California",
         "CA",
         154612,
         null
        ],
        [
         "Huntington Beach",
         "California",
         "CA",
         200809,
         null
        ],
        [
         "Inglewood",
         "California",
         "CA",
         111905,
         null
        ],
        [
         "Irvine",
         "California",
         "CA",
         248531,
         null
        ],
        [
         "Lancaster",
         "California",
         "CA",
         161043,
         null
        ],
        [
         "Long Beach",
         "California",
         "CA",
         473577,
         null
        ],
        [
         "Los Angeles",
         "California",
         "CA",
         3928864,
         434.7
        ],
        [
         "Modesto",
         "California",
         "CA",
         209286,
         null
        ],
        [
         "Moreno Valley",
         "California",
         "CA",
         202976,
         null
        ],
        [
         "Murrieta",
         "California",
         "CA",
         108368,
         null
        ],
        [
         "Norwalk",
         "California",
         "CA",
         107096,
         null
        ],
        [
         "Oakland",
         "California",
         "CA",
         413775,
         null
        ],
        [
         "Oceanside",
         "California",
         "CA",
         174558,
         null
        ],
        [
         "Ontario",
         "California",
         "CA",
         169089,
         null
        ],
        [
         "Orange",
         "California",
         "CA",
         139812,
         null
        ],
        [
         "Oxnard",
         "California",
         "CA",
         205437,
         null
        ],
        [
         "Palmdale",
         "California",
         "CA",
         158279,
         null
        ],
        [
         "Pasadena",
         "California",
         "CA",
         140881,
         null
        ],
        [
         "Pomona",
         "California",
         "CA",
         153350,
         null
        ],
        [
         "Rancho Cucamonga",
         "California",
         "CA",
         174305,
         null
        ],
        [
         "Rialto",
         "California",
         "CA",
         102741,
         null
        ],
        [
         "Richmond",
         "California",
         "CA",
         108565,
         null
        ],
        [
         "Riverside",
         "California",
         "CA",
         319504,
         281.0
        ],
        [
         "Roseville",
         "California",
         "CA",
         128615,
         null
        ],
        [
         "Sacramento",
         "California",
         "CA",
         485199,
         275.8
        ],
        [
         "Salinas",
         "California",
         "CA",
         156677,
         null
        ],
        [
         "San Bernardino",
         "California",
         "CA",
         215213,
         null
        ],
        [
         "San Diego",
         "California",
         "CA",
         1381069,
         510.3
        ],
        [
         "San Francisco[10]",
         "California",
         "CA",
         852469,
         748.3
        ],
        [
         "San Jose",
         "California",
         "CA",
         1015785,
         900.0
        ],
        [
         "San Mateo",
         "California",
         "CA",
         102893,
         null
        ],
        [
         "Santa Ana",
         "California",
         "CA",
         334909,
         null
        ],
        [
         "Santa Clara",
         "California",
         "CA",
         122192,
         null
        ],
        [
         "Santa Clarita",
         "California",
         "CA",
         181557,
         null
        ],
        [
         "Santa Maria",
         "California",
         "CA",
         103410,
         null
        ],
        [
         "Santa Rosa",
         "California",
         "CA",
         174170,
         null
        ],
        [
         "Simi Valley",
         "California",
         "CA",
         126871,
         null
        ],
        [
         "Stockton",
         "California",
         "CA",
         302389,
         null
        ],
        [
         "Sunnyvale",
         "California",
         "CA",
         149980,
         null
        ],
        [
         "Temecula",
         "California",
         "CA",
         109428,
         null
        ],
        [
         "Thousand Oaks",
         "California",
         "CA",
         129342,
         null
        ],
        [
         "Torrance",
         "California",
         "CA",
         148495,
         null
        ],
        [
         "Vallejo",
         "California",
         "CA",
         120228,
         null
        ],
        [
         "Ventura[29]",
         "California",
         "CA",
         109484,
         null
        ],
        [
         "Victorville",
         "California",
         "CA",
         121901,
         null
        ],
        [
         "Visalia",
         "California",
         "CA",
         129281,
         null
        ],
        [
         "West Covina",
         "California",
         "CA",
         108455,
         null
        ],
        [
         "Arvada",
         "Colorado",
         "CO",
         113574,
         null
        ],
        [
         "Aurora",
         "Colorado",
         "CO",
         353108,
         null
        ],
        [
         "Boulder",
         "Colorado",
         "CO",
         105112,
         442.2
        ],
        [
         "Centennial",
         "Colorado",
         "CO",
         107201,
         null
        ],
        [
         "Colorado Springs",
         "Colorado",
         "CO",
         445830,
         220.1
        ],
        [
         "Denver[12]",
         "Colorado",
         "CO",
         663862,
         338.1
        ],
        [
         "Fort Collins",
         "Colorado",
         "CO",
         156480,
         null
        ],
        [
         "Lakewood",
         "Colorado",
         "CO",
         149643,
         null
        ],
        [
         "Pueblo",
         "Colorado",
         "CO",
         108423,
         null
        ],
        [
         "Thornton",
         "Colorado",
         "CO",
         130307,
         null
        ],
        [
         "Westminster",
         "Colorado",
         "CO",
         112090,
         null
        ],
        [
         "Bridgeport",
         "Connecticut",
         "CT",
         147612,
         342.7
        ],
        [
         "Hartford",
         "Connecticut",
         "CT",
         124705,
         202.6
        ],
        [
         "New Haven",
         "Connecticut",
         "CT",
         130282,
         205.1
        ],
        [
         "Stamford",
         "Connecticut",
         "CT",
         128278,
         null
        ],
        [
         "Waterbury",
         "Connecticut",
         "CT",
         109307,
         null
        ],
        [
         "Washington[13]",
         "District of Columbia",
         "DC",
         658893,
         367.8
        ],
        [
         "Cape Coral",
         "Florida",
         "FL",
         169854,
         208.0
        ],
        [
         "Clearwater",
         "Florida",
         "FL",
         110703,
         null
        ],
        [
         "Coral Springs",
         "Florida",
         "FL",
         127952,
         null
        ],
        [
         "Fort Lauderdale",
         "Florida",
         "FL",
         176013,
         null
        ],
        [
         "Gainesville",
         "Florida",
         "FL",
         128460,
         169.9
        ],
        [
         "Hialeah",
         "Florida",
         "FL",
         235563,
         null
        ],
        [
         "Hollywood",
         "Florida",
         "FL",
         148047,
         null
        ],
        [
         "Jacksonville[9]",
         "Florida",
         "FL",
         853382,
         182.5
        ],
        [
         "Lakeland",
         "Florida",
         "FL",
         102346,
         136.0
        ],
        [
         "Miami",
         "Florida",
         "FL",
         430332,
         269.1
        ],
        [
         "Miami Gardens",
         "Florida",
         "FL",
         112265,
         null
        ],
        [
         "Miramar",
         "Florida",
         "FL",
         134989,
         null
        ],
        [
         "Orlando",
         "Florida",
         "FL",
         262372,
         null
        ],
        [
         "Palm Bay",
         "Florida",
         "FL",
         105838,
         145.0
        ],
        [
         "Pembroke Pines",
         "Florida",
         "FL",
         164626,
         null
        ],
        [
         "Pompano Beach",
         "Florida",
         "FL",
         106105,
         null
        ],
        [
         "Port St. Lucie",
         "Florida",
         "FL",
         174110,
         172.0
        ],
        [
         "St. Petersburg",
         "Florida",
         "FL",
         253693,
         null
        ],
        [
         "Tallahassee",
         "Florida",
         "FL",
         188107,
         170.5
        ],
        [
         "Tampa",
         "Florida",
         "FL",
         358699,
         156.0
        ],
        [
         "West Palm Beach",
         "Florida",
         "FL",
         104031,
         null
        ],
        [
         "Athens[28]",
         "Georgia",
         "GA",
         119648,
         null
        ],
        [
         "Atlanta",
         "Georgia",
         "GA",
         456002,
         158.0
        ],
        [
         "Augusta[24]",
         "Georgia",
         "GA",
         196741,
         null
        ],
        [
         "Columbus[23]",
         "Georgia",
         "GA",
         200887,
         null
        ],
        [
         "Macon",
         "Georgia",
         "GA",
         null,
         null
        ],
        [
         "Sandy Springs",
         "Georgia",
         "GA",
         101908,
         null
        ],
        [
         "Savannah",
         "Georgia",
         "GA",
         144352,
         null
        ],
        [
         "Honolulu[2]",
         "Hawai'i",
         "HI",
         350399,
         699.3
        ],
        [
         "Boise[22]",
         "Idaho",
         "ID",
         216282,
         178.7
        ],
        [
         "Aurora",
         "Illinois",
         "IL",
         200456,
         null
        ],
        [
         "Chicago",
         "Illinois",
         "IL",
         2722389,
         192.5
        ],
        [
         "Elgin",
         "Illinois",
         "IL",
         111117,
         null
        ],
        [
         "Joliet",
         "Illinois",
         "IL",
         147928,
         null
        ],
        [
         "Naperville",
         "Illinois",
         "IL",
         146128,
         null
        ],
        [
         "Peoria",
         "Illinois",
         "IL",
         115828,
         105.2
        ],
        [
         "Rockford",
         "Illinois",
         "IL",
         149123,
         78.6
        ],
        [
         "Springfield",
         "Illinois",
         "IL",
         116809,
         115.2
        ],
        [
         "Evansville",
         "Indiana",
         "IN",
         120346,
         null
        ],
        [
         "Fort Wayne",
         "Indiana",
         "IN",
         258522,
         106.3
        ],
        [
         "Indianapolis[11]",
         "Indiana",
         "IN",
         848788,
         139.2
        ],
        [
         "Cedar Rapids",
         "Iowa",
         "IA",
         129195,
         156.9
        ],
        [
         "Davenport",
         "Iowa",
         "IA",
         102448,
         109.4
        ],
        [
         "Des Moines",
         "Iowa",
         "IA",
         209220,
         null
        ],
        [
         "Kansas City[26]",
         "Kansas",
         "KS",
         149636,
         null
        ],
        [
         "Olathe",
         "Kansas",
         "KS",
         133062,
         null
        ],
        [
         "Overland Park",
         "Kansas",
         "KS",
         184525,
         null
        ],
        [
         "Topeka",
         "Kansas",
         "KS",
         127215,
         105.3
        ],
        [
         "Wichita",
         "Kansas",
         "KS",
         388413,
         126.0
        ],
        [
         "Lexington[18]",
         "Kentucky",
         "KY",
         310797,
         141.2
        ],
        [
         "Louisville[16]",
         "Kentucky",
         "KY",
         612780,
         141.1
        ],
        [
         "Baton Rouge[21]",
         "Louisiana",
         "LA",
         228895,
         177.2
        ],
        [
         "Lafayette[27]",
         "Louisiana",
         "LA",
         126066,
         null
        ],
        [
         "New Orleans[17]",
         "Louisiana",
         "LA",
         384320,
         null
        ],
        [
         "Shreveport",
         "Louisiana",
         "LA",
         198242,
         151.6
        ],
        [
         "Baltimore[15]",
         "Maryland",
         "MD",
         622793,
         223.1
        ],
        [
         "Boston",
         "Massachusetts",
         "MA",
         655884,
         374.6
        ],
        [
         "Cambridge",
         "Massachusetts",
         "MA",
         109694,
         null
        ],
        [
         "Lowell",
         "Massachusetts",
         "MA",
         109945,
         null
        ],
        [
         "Springfield",
         "Massachusetts",
         "MA",
         153991,
         183.9
        ],
        [
         "Worcester",
         "Massachusetts",
         "MA",
         183016,
         226.9
        ],
        [
         "Ann Arbor",
         "Michigan",
         "MI",
         117770,
         null
        ],
        [
         "Detroit",
         "Michigan",
         "MI",
         680250,
         null
        ],
        [
         "Grand Rapids",
         "Michigan",
         "MI",
         193792,
         null
        ],
        [
         "Lansing",
         "Michigan",
         "MI",
         114620,
         114.6
        ],
        [
         "Sterling Heights",
         "Michigan",
         "MI",
         131741,
         null
        ],
        [
         "Warren",
         "Michigan",
         "MI",
         135099,
         null
        ],
        [
         "Minneapolis",
         "Minnesota",
         "MN",
         407207,
         209.4
        ],
        [
         "Rochester",
         "Minnesota",
         "MN",
         111402,
         null
        ],
        [
         "Saint Paul",
         "Minnesota",
         "MN",
         297640,
         null
        ],
        [
         "Jackson",
         "Mississippi",
         "MS",
         171155,
         154.1
        ],
        [
         "Columbia",
         "Missouri",
         "MO",
         116906,
         null
        ],
        [
         "Independence",
         "Missouri",
         "MO",
         117494,
         null
        ],
        [
         "Kansas City",
         "Missouri",
         "MO",
         470800,
         153.0
        ],
        [
         "Springfield",
         "Missouri",
         "MO",
         165378,
         116.5
        ],
        [
         "St. Louis[15]",
         "Missouri",
         "MO",
         317419,
         null
        ],
        [
         "Billings",
         "Montana",
         "MT",
         108869,
         null
        ],
        [
         "Lincoln",
         "Nebraska",
         "NE",
         272996,
         150.2
        ],
        [
         "Omaha",
         "Nebraska",
         "NE",
         446599,
         148.1
        ],
        [
         "Henderson",
         "Nevada",
         "NV",
         277440,
         null
        ],
        [
         "Las Vegas",
         "Nevada",
         "NV",
         613599,
         205.9
        ],
        [
         "North Las Vegas",
         "Nevada",
         "NV",
         230788,
         null
        ],
        [
         "Reno",
         "Nevada",
         "NV",
         236995,
         268.7
        ],
        [
         "Manchester",
         "New Hampshire",
         "NH",
         110448,
         237.4
        ],
        [
         "Elizabeth",
         "New Jersey",
         "NJ",
         128705,
         null
        ],
        [
         "Jersey City",
         "New Jersey",
         "NJ",
         262146,
         null
        ],
        [
         "Newark",
         "New Jersey",
         "NJ",
         280579,
         350.8
        ],
        [
         "Paterson",
         "New Jersey",
         "NJ",
         146753,
         null
        ],
        [
         "Albuquerque",
         "New Mexico",
         "NM",
         557169,
         172.2
        ],
        [
         "Las Cruces",
         "New Mexico",
         "NM",
         101408,
         null
        ],
        [
         "Buffalo",
         "New York",
         "NY",
         258703,
         117.3
        ],
        [
         "New York[6]",
         "New York",
         "NY",
         8491079,
         388.6
        ],
        [
         "Rochester",
         "New York",
         "NY",
         209983,
         118.9
        ],
        [
         "Syracuse",
         "New York",
         "NY",
         144263,
         118.3
        ],
        [
         "Yonkers",
         "New York",
         "NY",
         200667,
         null
        ],
        [
         "Cary[25]",
         "North Carolina",
         "NC",
         155227,
         null
        ],
        [
         "Charlotte",
         "North Carolina",
         "NC",
         809958,
         197.2
        ],
        [
         "Durham",
         "North Carolina",
         "NC",
         251893,
         196.9
        ],
        [
         "Fayetteville",
         "North Carolina",
         "NC",
         203948,
         145.0
        ],
        [
         "Greensboro",
         "North Carolina",
         "NC",
         282586,
         138.3
        ],
        [
         "High Point",
         "North Carolina",
         "NC",
         108629,
         null
        ],
        [
         "Raleigh",
         "North Carolina",
         "NC",
         439896,
         218.9
        ],
        [
         "Wilmington",
         "North Carolina",
         "NC",
         113657,
         197.5
        ],
        [
         "Winston�Salem",
         "North Carolina",
         "NC",
         239269,
         138.6
        ],
        [
         "Fargo",
         "North Dakota",
         "ND",
         115863,
         180.0
        ],
        [
         "Akron",
         "Ohio",
         "OH",
         197859,
         95.4
        ],
        [
         "Cincinnati",
         "Ohio",
         "OH",
         298165,
         135.0
        ],
        [
         "Cleveland",
         "Ohio",
         "OH",
         389521,
         105.9
        ],
        [
         "Columbus",
         "Ohio",
         "OH",
         835957,
         149.9
        ],
        [
         "Dayton",
         "Ohio",
         "OH",
         141003,
         107.2
        ],
        [
         "Toledo",
         "Ohio",
         "OH",
         281031,
         83.8
        ],
        [
         "Broken Arrow",
         "Oklahoma",
         "OK",
         104726,
         null
        ],
        [
         "Norman",
         "Oklahoma",
         "OK",
         118040,
         null
        ],
        [
         "Oklahoma City",
         "Oklahoma",
         "OK",
         620602,
         null
        ],
        [
         "Tulsa",
         "Oklahoma",
         "OK",
         399682,
         145.1
        ],
        [
         "Eugene",
         "Oregon",
         "OR",
         160561,
         211.3
        ],
        [
         "Gresham",
         "Oregon",
         "OR",
         109892,
         null
        ],
        [
         "Portland",
         "Oregon",
         "OR",
         619360,
         289.4
        ],
        [
         "Salem",
         "Oregon",
         "OR",
         161637,
         193.9
        ],
        [
         "Allentown",
         "Pennsylvania",
         "PA",
         119104,
         162.7
        ],
        [
         "Philadelphia[8]",
         "Pennsylvania",
         "PA",
         1560297,
         204.9
        ],
        [
         "Pittsburgh",
         "Pennsylvania",
         "PA",
         305412,
         null
        ],
        [
         "Providence",
         "Rhode Island",
         "RI",
         179154,
         233.3
        ],
        [
         "Charleston",
         "South Carolina",
         "SC",
         130113,
         null
        ],
        [
         "Columbia",
         "South Carolina",
         "SC",
         132067,
         null
        ],
        [
         "North Charleston",
         "South Carolina",
         "SC",
         106749,
         null
        ],
        [
         "Sioux Falls",
         "South Dakota",
         "SD",
         168586,
         159.5
        ],
        [
         "Chattanooga",
         "Tennessee",
         "TN",
         173778,
         143.6
        ],
        [
         "Clarksville",
         "Tennessee",
         "TN",
         146806,
         null
        ],
        [
         "Knoxville",
         "Tennessee",
         "TN",
         184281,
         149.2
        ],
        [
         "Memphis",
         "Tennessee",
         "TN",
         656861,
         132.1
        ],
        [
         "Murfreesboro",
         "Tennessee",
         "TN",
         120954,
         null
        ],
        [
         "Nashville[14]",
         "Tennessee",
         "TN",
         644014,
         186.4
        ],
        [
         "Abilene",
         "Texas",
         "TX",
         120958,
         145.7
        ],
        [
         "Amarillo",
         "Texas",
         "TX",
         197254,
         144.4
        ],
        [
         "Arlington",
         "Texas",
         "TX",
         383204,
         null
        ],
        [
         "Austin",
         "Texas",
         "TX",
         912791,
         249.1
        ],
        [
         "Beaumont",
         "Texas",
         "TX",
         117585,
         133.3
        ],
        [
         "Brownsville",
         "Texas",
         "TX",
         183046,
         null
        ],
        [
         "Carrollton",
         "Texas",
         "TX",
         128353,
         null
        ],
        [
         "College Station",
         "Texas",
         "TX",
         103483,
         null
        ],
        [
         "Corpus Christi",
         "Texas",
         "TX",
         320434,
         172.9
        ],
        [
         "Dallas",
         "Texas",
         "TX",
         1281047,
         192.5
        ],
        [
         "Denton",
         "Texas",
         "TX",
         128205,
         null
        ],
        [
         "El Paso",
         "Texas",
         "TX",
         679036,
         138.4
        ],
        [
         "Fort Worth",
         "Texas",
         "TX",
         812238,
         null
        ],
        [
         "Frisco",
         "Texas",
         "TX",
         145035,
         null
        ],
        [
         "Garland",
         "Texas",
         "TX",
         235501,
         null
        ],
        [
         "Grand Prairie",
         "Texas",
         "TX",
         185453,
         null
        ],
        [
         "Houston[7]",
         "Texas",
         "TX",
         2239558,
         200.3
        ],
        [
         "Irving",
         "Texas",
         "TX",
         232406,
         null
        ],
        [
         "Killeen",
         "Texas",
         "TX",
         138154,
         null
        ],
        [
         "Laredo",
         "Texas",
         "TX",
         252309,
         null
        ],
        [
         "Lewisville",
         "Texas",
         "TX",
         102889,
         null
        ],
        [
         "Lubbock",
         "Texas",
         "TX",
         243839,
         null
        ],
        [
         "McAllen",
         "Texas",
         "TX",
         138596,
         null
        ],
        [
         "McKinney",
         "Texas",
         "TX",
         156767,
         null
        ],
        [
         "Mesquite",
         "Texas",
         "TX",
         144416,
         null
        ],
        [
         "Midland",
         "Texas",
         "TX",
         128037,
         null
        ],
        [
         "Odessa",
         "Texas",
         "TX",
         114597,
         null
        ],
        [
         "Pasadena",
         "Texas",
         "TX",
         153887,
         null
        ],
        [
         "Pearland",
         "Texas",
         "TX",
         103441,
         null
        ],
        [
         "Plano",
         "Texas",
         "TX",
         278480,
         null
        ],
        [
         "Richardson",
         "Texas",
         "TX",
         108617,
         null
        ],
        [
         "Round Rock",
         "Texas",
         "TX",
         112744,
         null
        ],
        [
         "San Antonio",
         "Texas",
         "TX",
         1436697,
         184.7
        ],
        [
         "Tyler",
         "Texas",
         "TX",
         101421,
         null
        ],
        [
         "Waco",
         "Texas",
         "TX",
         130194,
         null
        ],
        [
         "Wichita Falls",
         "Texas",
         "TX",
         105114,
         null
        ],
        [
         "Provo",
         "Utah",
         "UT",
         114801,
         null
        ],
        [
         "Salt Lake City",
         "Utah",
         "UT",
         190884,
         243.3
        ],
        [
         "West Jordan",
         "Utah",
         "UT",
         110920,
         null
        ],
        [
         "West Valley City",
         "Utah",
         "UT",
         134495,
         null
        ],
        [
         "Alexandria[15]",
         "Virginia",
         "VA",
         150575,
         null
        ],
        [
         "Chesapeake[15]",
         "Virginia",
         "VA",
         233371,
         null
        ],
        [
         "Hampton[15]",
         "Virginia",
         "VA",
         136879,
         null
        ],
        [
         "Newport News[15]",
         "Virginia",
         "VA",
         182965,
         null
        ],
        [
         "Norfolk[15]",
         "Virginia",
         "VA",
         245428,
         null
        ],
        [
         "Richmond[15]",
         "Virginia",
         "VA",
         217853,
         212.5
        ],
        [
         "Virginia Beach[15]",
         "Virginia",
         "VA",
         450980,
         190.0
        ],
        [
         "Bellevue",
         "Washington",
         "WA",
         136426,
         null
        ],
        [
         "Everett",
         "Washington",
         "WA",
         106736,
         null
        ],
        [
         "Kent",
         "Washington",
         "WA",
         125560,
         null
        ],
        [
         "Seattle",
         "Washington",
         "WA",
         668342,
         352.4
        ],
        [
         "Spokane",
         "Washington",
         "WA",
         212052,
         180.2
        ],
        [
         "Tacoma",
         "Washington",
         "WA",
         205159,
         null
        ],
        [
         "Vancouver",
         "Washington",
         "WA",
         169294,
         null
        ],
        [
         "Green Bay",
         "Wisconsin",
         "WI",
         104891,
         null
        ],
        [
         "Madison",
         "Wisconsin",
         "WI",
         245691,
         226.2
        ],
        [
         "Milwaukee",
         "Wisconsin",
         "WI",
         599642,
         195.4
        ]
       ],
       "datasetInfos": [],
       "dbfsResultPath": null,
       "isJsonSchema": true,
       "metadata": {},
       "overflow": false,
       "plotOptions": {
        "customPlotOptions": {},
        "displayType": "table",
        "pivotAggregation": null,
        "pivotColumns": null,
        "xColumns": null,
        "yColumns": null
       },
       "removedWidgets": [],
       "schema": [
        {
         "metadata": "{}",
         "name": "City",
         "type": "\"string\""
        },
        {
         "metadata": "{}",
         "name": "State",
         "type": "\"string\""
        },
        {
         "metadata": "{}",
         "name": "State Code",
         "type": "\"string\""
        },
        {
         "metadata": "{}",
         "name": "2014 Population estimate",
         "type": "\"integer\""
        },
        {
         "metadata": "{}",
         "name": "2015 median sales price",
         "type": "\"double\""
        }
       ],
       "type": "table"
      }
     },
     "output_type": "display_data"
    },
    {
     "output_type": "display_data",
     "data": {
      "text/plain": [
       "Databricks visualization. Run in Databricks to view."
      ]
     },
     "metadata": {
      "application/vnd.databricks.v1.subcommand+json": {
       "baseErrorDetails": null,
       "bindings": {},
       "collapsed": false,
       "command": "%python\n__backend_agg_display_orig = display\n__backend_agg_dfs = []\ndef __backend_agg_display_new(df):\n    __backend_agg_df_modules = [\"pandas.core.frame\", \"databricks.koalas.frame\", \"pyspark.sql.dataframe\", \"pyspark.pandas.frame\", \"pyspark.sql.connect.dataframe\"]\n    if (type(df).__module__ in __backend_agg_df_modules and type(df).__name__ == 'DataFrame') or isinstance(df, list):\n        __backend_agg_dfs.append(df)\n\ndisplay = __backend_agg_display_new\n\ndef __backend_agg_user_code_fn():\n    import base64\n    exec(base64.standard_b64decode(\"ZGZfc2VsZWN0ZWQgPSBkZi5zZWxlY3QoCiAgICAiQ2l0eSIsICJTdGF0ZSIsICJTdGF0ZSBDb2RlIiwgIjIwMTQgUG9wdWxhdGlvbiBlc3RpbWF0ZSIsICIyMDE1IG1lZGlhbiBzYWxlcyBwcmljZSIKKQoKZGlzcGxheShkZl9zZWxlY3RlZCk=\").decode())\n\ntry:\n    # run user code\n    __backend_agg_user_code_fn()\n\n    #reset display function\n    display = __backend_agg_display_orig\n\n    if len(__backend_agg_dfs) > 0:\n        # create a temp view\n        if type(__backend_agg_dfs[0]).__module__ == \"databricks.koalas.frame\":\n            # koalas dataframe\n            __backend_agg_dfs[0].to_spark().createOrReplaceTempView(\"DatabricksViewefeebb3\")\n        elif type(__backend_agg_dfs[0]).__module__ == \"pandas.core.frame\" or isinstance(__backend_agg_dfs[0], list):\n            # pandas dataframe\n            spark.createDataFrame(__backend_agg_dfs[0]).createOrReplaceTempView(\"DatabricksViewefeebb3\")\n        else:\n            __backend_agg_dfs[0].createOrReplaceTempView(\"DatabricksViewefeebb3\")\n        #run backend agg\n        display(spark.sql(\"\"\"WITH q AS (select * from DatabricksViewefeebb3) SELECT `State`,SUM(`2014 Population estimate`) `column_bb37bdf691` FROM q GROUP BY `State`\"\"\"))\n    else:\n        displayHTML(\"dataframe no longer exists. If you're using dataframe.display(), use display(dataframe) instead.\")\n\n\nfinally:\n    spark.sql(\"drop view if exists DatabricksViewefeebb3\")\n    display = __backend_agg_display_orig\n    del __backend_agg_display_new\n    del __backend_agg_display_orig\n    del __backend_agg_dfs\n    del __backend_agg_user_code_fn\n\n",
       "commandTitle": "Visualization 1",
       "commandType": "auto",
       "commandVersion": 0,
       "commentThread": [],
       "commentsVisible": false,
       "contentSha256Hex": null,
       "customPlotOptions": {
        "redashChart": [
         {
          "key": "type",
          "value": "CHART"
         },
         {
          "key": "options",
          "value": {
           "alignYAxesAtZero": true,
           "coefficient": 1,
           "columnConfigurationMap": {
            "x": {
             "column": "State",
             "id": "column_bb37bdf689"
            },
            "y": [
             {
              "column": "2014 Population estimate",
              "id": "column_bb37bdf691",
              "transform": "SUM"
             }
            ]
           },
           "dateTimeFormat": "DD/MM/YYYY HH:mm",
           "direction": {
            "type": "counterclockwise"
           },
           "error_y": {
            "type": "data",
            "visible": true
           },
           "globalSeriesType": "column",
           "isAggregationOn": true,
           "legend": {
            "traceorder": "normal"
           },
           "missingValuesAsZero": true,
           "numberFormat": "0,0.[00000]",
           "percentFormat": "0[.]00%",
           "series": {
            "error_y": {
             "type": "data",
             "visible": true
            },
            "stacking": null
           },
           "seriesOptions": {
            "column_bb37bdf691": {
             "type": "column",
             "yAxis": 0
            }
           },
           "showDataLabels": false,
           "sizemode": "diameter",
           "sortX": true,
           "sortY": true,
           "swappedAxes": false,
           "textFormat": "",
           "useAggregationsUi": true,
           "valuesOptions": {},
           "version": 2,
           "xAxis": {
            "labels": {
             "enabled": true
            },
            "type": "-"
           },
           "yAxis": [
            {
             "type": "-"
            },
            {
             "opposite": true,
             "type": "-"
            }
           ]
          }
         }
        ]
       },
       "datasetPreviewNameToCmdIdMap": {},
       "diffDeletes": [],
       "diffInserts": [],
       "displayType": "redashChart",
       "error": null,
       "errorDetails": null,
       "errorSummary": null,
       "errorTraceType": null,
       "finishTime": 0,
       "globalVars": {},
       "guid": "",
       "height": "auto",
       "hideCommandCode": false,
       "hideCommandResult": false,
       "iPythonMetadata": null,
       "inputWidgets": {},
       "isLockedInExamMode": false,
       "latestUser": "a user",
       "latestUserId": null,
       "listResultMetadata": null,
       "metadata": {
        "byteLimit": 2048000,
        "rowLimit": 10000
       },
       "nuid": "390c36dd-87bf-45b1-b001-b109a2acc695",
       "origId": 0,
       "parentHierarchy": [],
       "pivotAggregation": null,
       "pivotColumns": null,
       "position": 4.0,
       "resultDbfsErrorMessage": null,
       "resultDbfsStatus": "INLINED_IN_TREE",
       "results": null,
       "showCommandTitle": false,
       "startTime": 0,
       "state": "finished",
       "streamStates": {},
       "subcommandOptions": {
        "queryPlan": {
         "groups": [
          {
           "column": "State",
           "type": "column"
          }
         ],
         "selects": [
          {
           "column": "State",
           "type": "column"
          },
          {
           "alias": "column_bb37bdf691",
           "args": [
            {
             "column": "2014 Population estimate",
             "type": "column"
            }
           ],
           "function": "SUM",
           "type": "function"
          }
         ]
        }
       },
       "submitTime": 0,
       "subtype": "tableResultSubCmd.visualization",
       "tableResultIndex": 0,
       "tableResultSettingsMap": {},
       "useConsistentColors": false,
       "version": "CommandV1",
       "width": "auto",
       "workflows": [],
       "xColumns": null,
       "yColumns": null
      }
     },
     "output_type": "display_data"
    }
   ],
   "source": [
    "df_selected = df.select(\n",
    "    \"City\", \"State\", \"State Code\", \"2014 Population estimate\", \"2015 median sales price\"\n",
    ")\n",
    "\n",
    "display(df_selected)"
   ]
  },
  {
   "cell_type": "markdown",
   "metadata": {
    "application/vnd.databricks.v1+cell": {
     "cellMetadata": {
      "byteLimit": 2048000,
      "rowLimit": 10000
     },
     "inputWidgets": {},
     "nuid": "56a06490-317d-4e48-a8db-e4cb7cf7abd8",
     "showTitle": false,
     "tableResultSettingsMap": {},
     "title": ""
    }
   },
   "source": [
    "# Scenario 1: Top 10 most populous cities"
   ]
  },
  {
   "cell_type": "code",
   "execution_count": 0,
   "metadata": {
    "application/vnd.databricks.v1+cell": {
     "cellMetadata": {
      "byteLimit": 2048000,
      "rowLimit": 10000
     },
     "inputWidgets": {},
     "nuid": "5881c9d5-dab8-449a-82a3-23fac063d5dd",
     "showTitle": false,
     "tableResultSettingsMap": {},
     "title": ""
    }
   },
   "outputs": [
    {
     "output_type": "display_data",
     "data": {
      "text/html": [
       "<style scoped>\n",
       "  .table-result-container {\n",
       "    max-height: 300px;\n",
       "    overflow: auto;\n",
       "  }\n",
       "  table, th, td {\n",
       "    border: 1px solid black;\n",
       "    border-collapse: collapse;\n",
       "  }\n",
       "  th, td {\n",
       "    padding: 5px;\n",
       "  }\n",
       "  th {\n",
       "    text-align: left;\n",
       "  }\n",
       "</style><div class='table-result-container'><table class='table-result'><thead style='background-color: white'><tr><th>City</th><th>2014 Population estimate</th></tr></thead><tbody><tr><td>New York[6]</td><td>8491079</td></tr><tr><td>Los Angeles</td><td>3928864</td></tr><tr><td>Chicago</td><td>2722389</td></tr><tr><td>Houston[7]</td><td>2239558</td></tr><tr><td>Philadelphia[8]</td><td>1560297</td></tr><tr><td>Phoenix</td><td>1537058</td></tr><tr><td>San Antonio</td><td>1436697</td></tr><tr><td>San Diego</td><td>1381069</td></tr><tr><td>Dallas</td><td>1281047</td></tr><tr><td>San Jose</td><td>1015785</td></tr></tbody></table></div>"
      ]
     },
     "metadata": {
      "application/vnd.databricks.v1+output": {
       "addedWidgets": {},
       "aggData": [],
       "aggError": "",
       "aggOverflow": false,
       "aggSchema": [],
       "aggSeriesLimitReached": false,
       "aggType": "",
       "arguments": {},
       "columnCustomDisplayInfos": {},
       "data": [
        [
         "New York[6]",
         8491079
        ],
        [
         "Los Angeles",
         3928864
        ],
        [
         "Chicago",
         2722389
        ],
        [
         "Houston[7]",
         2239558
        ],
        [
         "Philadelphia[8]",
         1560297
        ],
        [
         "Phoenix",
         1537058
        ],
        [
         "San Antonio",
         1436697
        ],
        [
         "San Diego",
         1381069
        ],
        [
         "Dallas",
         1281047
        ],
        [
         "San Jose",
         1015785
        ]
       ],
       "datasetInfos": [],
       "dbfsResultPath": null,
       "isJsonSchema": true,
       "metadata": {},
       "overflow": false,
       "plotOptions": {
        "customPlotOptions": {},
        "displayType": "table",
        "pivotAggregation": null,
        "pivotColumns": null,
        "xColumns": null,
        "yColumns": null
       },
       "removedWidgets": [],
       "schema": [
        {
         "metadata": "{}",
         "name": "City",
         "type": "\"string\""
        },
        {
         "metadata": "{}",
         "name": "2014 Population estimate",
         "type": "\"integer\""
        }
       ],
       "type": "table"
      }
     },
     "output_type": "display_data"
    },
    {
     "output_type": "display_data",
     "data": {
      "text/plain": [
       "Databricks visualization. Run in Databricks to view."
      ]
     },
     "metadata": {
      "application/vnd.databricks.v1.subcommand+json": {
       "baseErrorDetails": null,
       "bindings": {},
       "collapsed": false,
       "command": "%python\n__backend_agg_display_orig = display\n__backend_agg_dfs = []\ndef __backend_agg_display_new(df):\n    __backend_agg_df_modules = [\"pandas.core.frame\", \"databricks.koalas.frame\", \"pyspark.sql.dataframe\", \"pyspark.pandas.frame\", \"pyspark.sql.connect.dataframe\"]\n    if (type(df).__module__ in __backend_agg_df_modules and type(df).__name__ == 'DataFrame') or isinstance(df, list):\n        __backend_agg_dfs.append(df)\n\ndisplay = __backend_agg_display_new\n\ndef __backend_agg_user_code_fn():\n    import base64\n    exec(base64.standard_b64decode(\"IyBJbXBvcnQgbmVjZXNzYXJ5IGZ1bmN0aW9ucyAgCmZyb20gcHlzcGFyay5zcWwuZnVuY3Rpb25zIGltcG9ydCBjb2wgIAoKIyBGaW5kIHRoZSB0b3AgMTAgbW9zdCBwb3B1bG91cyBjaXRpZXMgIAp0b3BfMTBfY2l0aWVzID0gZGYuc2VsZWN0KCAgCiAgICAiQ2l0eSIsICAgICAKICAgICIyMDE0IFBvcHVsYXRpb24gZXN0aW1hdGUiICAKKS5vcmRlckJ5KGNvbCgiMjAxNCBQb3B1bGF0aW9uIGVzdGltYXRlIikuZGVzYygpKS5saW1pdCgxMCkgIAoKIyBEaXNwbGF5IHRoZSByZXN1bHRzICAKZGlzcGxheSh0b3BfMTBfY2l0aWVzKSAg\").decode())\n\ntry:\n    # run user code\n    __backend_agg_user_code_fn()\n\n    #reset display function\n    display = __backend_agg_display_orig\n\n    if len(__backend_agg_dfs) > 0:\n        # create a temp view\n        if type(__backend_agg_dfs[0]).__module__ == \"databricks.koalas.frame\":\n            # koalas dataframe\n            __backend_agg_dfs[0].to_spark().createOrReplaceTempView(\"DatabricksViewf32869d\")\n        elif type(__backend_agg_dfs[0]).__module__ == \"pandas.core.frame\" or isinstance(__backend_agg_dfs[0], list):\n            # pandas dataframe\n            spark.createDataFrame(__backend_agg_dfs[0]).createOrReplaceTempView(\"DatabricksViewf32869d\")\n        else:\n            __backend_agg_dfs[0].createOrReplaceTempView(\"DatabricksViewf32869d\")\n        #run backend agg\n        display(spark.sql(\"\"\"WITH q AS (select * from DatabricksViewf32869d) SELECT `City`,SUM(`2014 Population estimate`) `column_bb37bdf687` FROM q GROUP BY `City`\"\"\"))\n    else:\n        displayHTML(\"dataframe no longer exists. If you're using dataframe.display(), use display(dataframe) instead.\")\n\n\nfinally:\n    spark.sql(\"drop view if exists DatabricksViewf32869d\")\n    display = __backend_agg_display_orig\n    del __backend_agg_display_new\n    del __backend_agg_display_orig\n    del __backend_agg_dfs\n    del __backend_agg_user_code_fn\n\n",
       "commandTitle": "Visualization 1",
       "commandType": "auto",
       "commandVersion": 0,
       "commentThread": [],
       "commentsVisible": false,
       "contentSha256Hex": null,
       "customPlotOptions": {
        "redashChart": [
         {
          "key": "type",
          "value": "CHART"
         },
         {
          "key": "options",
          "value": {
           "alignYAxesAtZero": true,
           "coefficient": 1,
           "columnConfigurationMap": {
            "x": {
             "column": "City",
             "id": "column_bb37bdf686"
            },
            "y": [
             {
              "column": "2014 Population estimate",
              "id": "column_bb37bdf687",
              "transform": "SUM"
             }
            ]
           },
           "dateTimeFormat": "DD/MM/YYYY HH:mm",
           "direction": {
            "type": "counterclockwise"
           },
           "error_y": {
            "type": "data",
            "visible": true
           },
           "globalSeriesType": "column",
           "isAggregationOn": true,
           "legend": {
            "traceorder": "normal"
           },
           "missingValuesAsZero": true,
           "numberFormat": "0,0.[00000]",
           "percentFormat": "0[.]00%",
           "series": {
            "error_y": {
             "type": "data",
             "visible": true
            },
            "stacking": null
           },
           "seriesOptions": {
            "column_bb37bdf687": {
             "name": "2014 Population estimate",
             "yAxis": 0
            }
           },
           "showDataLabels": false,
           "sizemode": "diameter",
           "sortX": true,
           "sortY": true,
           "swappedAxes": false,
           "textFormat": "",
           "useAggregationsUi": true,
           "valuesOptions": {},
           "version": 2,
           "xAxis": {
            "labels": {
             "enabled": true
            },
            "type": "-"
           },
           "yAxis": [
            {
             "type": "-"
            },
            {
             "opposite": true,
             "type": "-"
            }
           ]
          }
         }
        ]
       },
       "datasetPreviewNameToCmdIdMap": {},
       "diffDeletes": [],
       "diffInserts": [],
       "displayType": "redashChart",
       "error": null,
       "errorDetails": null,
       "errorSummary": null,
       "errorTraceType": null,
       "finishTime": 0,
       "globalVars": {},
       "guid": "",
       "height": "auto",
       "hideCommandCode": false,
       "hideCommandResult": false,
       "iPythonMetadata": null,
       "inputWidgets": {},
       "isLockedInExamMode": false,
       "latestUser": "a user",
       "latestUserId": null,
       "listResultMetadata": null,
       "metadata": {
        "byteLimit": 2048000,
        "rowLimit": 10000
       },
       "nuid": "fe84c0a6-af5d-429b-80c9-347069edd68e",
       "origId": 0,
       "parentHierarchy": [],
       "pivotAggregation": null,
       "pivotColumns": null,
       "position": 4.5,
       "resultDbfsErrorMessage": null,
       "resultDbfsStatus": "INLINED_IN_TREE",
       "results": null,
       "showCommandTitle": false,
       "startTime": 0,
       "state": "finished",
       "streamStates": {},
       "subcommandOptions": {
        "queryPlan": {
         "groups": [
          {
           "column": "City",
           "type": "column"
          }
         ],
         "selects": [
          {
           "column": "City",
           "type": "column"
          },
          {
           "alias": "column_bb37bdf687",
           "args": [
            {
             "column": "2014 Population estimate",
             "type": "column"
            }
           ],
           "function": "SUM",
           "type": "function"
          }
         ]
        }
       },
       "submitTime": 0,
       "subtype": "tableResultSubCmd.visualization",
       "tableResultIndex": 0,
       "tableResultSettingsMap": {},
       "useConsistentColors": false,
       "version": "CommandV1",
       "width": "auto",
       "workflows": [],
       "xColumns": null,
       "yColumns": null
      }
     },
     "output_type": "display_data"
    }
   ],
   "source": [
    "# Import necessary functions  \n",
    "from pyspark.sql.functions import col  \n",
    "\n",
    "# Find the top 10 most populous cities  \n",
    "top_10_cities = df.select(  \n",
    "    \"City\",     \n",
    "    \"2014 Population estimate\"  \n",
    ").orderBy(col(\"2014 Population estimate\").desc()).limit(10)  \n",
    "\n",
    "# Display the results  \n",
    "display(top_10_cities)  "
   ]
  },
  {
   "cell_type": "code",
   "execution_count": 0,
   "metadata": {
    "application/vnd.databricks.v1+cell": {
     "cellMetadata": {
      "byteLimit": 2048000,
      "rowLimit": 10000
     },
     "inputWidgets": {},
     "nuid": "c2f4c28a-bb93-441c-ab05-9b1096f6f49c",
     "showTitle": false,
     "tableResultSettingsMap": {},
     "title": ""
    }
   },
   "outputs": [
    {
     "output_type": "stream",
     "name": "stdout",
     "output_type": "stream",
     "text": [
      "+---------------+------------+----------+------------------------+-----------------------+\n|           City|       State|State Code|2014 Population estimate|2015 median sales price|\n+---------------+------------+----------+------------------------+-----------------------+\n|    New York[6]|    New York|        NY|                 8491079|                  388.6|\n|    Los Angeles|  California|        CA|                 3928864|                  434.7|\n|        Chicago|    Illinois|        IL|                 2722389|                  192.5|\n|     Houston[7]|       Texas|        TX|                 2239558|                  200.3|\n|Philadelphia[8]|Pennsylvania|        PA|                 1560297|                  204.9|\n|        Phoenix|     Arizona|        AZ|                 1537058|                  206.1|\n|    San Antonio|       Texas|        TX|                 1436697|                  184.7|\n|      San Diego|  California|        CA|                 1381069|                  510.3|\n|         Dallas|       Texas|        TX|                 1281047|                  192.5|\n|       San Jose|  California|        CA|                 1015785|                  900.0|\n+---------------+------------+----------+------------------------+-----------------------+\nonly showing top 10 rows\n\n"
     ]
    }
   ],
   "source": [
    "df_selected.orderBy(df_selected[\"2014 Population estimate\"].desc()).show(10)  "
   ]
  },
  {
   "cell_type": "markdown",
   "metadata": {
    "application/vnd.databricks.v1+cell": {
     "cellMetadata": {
      "byteLimit": 2048000,
      "rowLimit": 10000
     },
     "inputWidgets": {},
     "nuid": "0564c05c-5963-4924-892e-e65b19d14128",
     "showTitle": false,
     "tableResultSettingsMap": {},
     "title": ""
    }
   },
   "source": [
    "# Scenario 2: Average median sales price by State"
   ]
  },
  {
   "cell_type": "code",
   "execution_count": 0,
   "metadata": {
    "application/vnd.databricks.v1+cell": {
     "cellMetadata": {
      "byteLimit": 2048000,
      "rowLimit": 10000
     },
     "inputWidgets": {},
     "nuid": "42c787f0-de58-4775-8c9c-405f48d70b75",
     "showTitle": false,
     "tableResultSettingsMap": {},
     "title": ""
    }
   },
   "outputs": [
    {
     "output_type": "display_data",
     "data": {
      "text/html": [
       "<style scoped>\n",
       "  .table-result-container {\n",
       "    max-height: 300px;\n",
       "    overflow: auto;\n",
       "  }\n",
       "  table, th, td {\n",
       "    border: 1px solid black;\n",
       "    border-collapse: collapse;\n",
       "  }\n",
       "  th, td {\n",
       "    padding: 5px;\n",
       "  }\n",
       "  th {\n",
       "    text-align: left;\n",
       "  }\n",
       "</style><div class='table-result-container'><table class='table-result'><thead style='background-color: white'><tr><th>State</th><th>Average Median Sales</th></tr></thead><tbody><tr><td>Utah</td><td>243.3</td></tr><tr><td>Hawai'i</td><td>699.3</td></tr><tr><td>Minnesota</td><td>209.4</td></tr><tr><td>Ohio</td><td>112.86666666666667</td></tr><tr><td>Arkansas</td><td>131.8</td></tr><tr><td>Oregon</td><td>231.53333333333333</td></tr><tr><td>Texas</td><td>173.4777777777778</td></tr><tr><td>North Dakota</td><td>180.0</td></tr><tr><td>Pennsylvania</td><td>183.8</td></tr><tr><td>Connecticut</td><td>250.13333333333333</td></tr><tr><td>Nebraska</td><td>149.14999999999998</td></tr><tr><td>Nevada</td><td>237.3</td></tr><tr><td>Washington</td><td>266.29999999999995</td></tr><tr><td>Illinois</td><td>122.87499999999999</td></tr><tr><td>Oklahoma</td><td>145.1</td></tr><tr><td>District of Columbia</td><td>367.8</td></tr><tr><td>Alaska</td><td>null</td></tr><tr><td>New Mexico</td><td>172.2</td></tr><tr><td>Missouri</td><td>134.75</td></tr><tr><td>Rhode Island</td><td>233.3</td></tr><tr><td>Georgia</td><td>158.0</td></tr><tr><td>Montana</td><td>null</td></tr><tr><td>Michigan</td><td>114.6</td></tr><tr><td>Virginia</td><td>201.25</td></tr><tr><td>North Carolina</td><td>176.05714285714288</td></tr><tr><td>Kansas</td><td>115.65</td></tr><tr><td>New Jersey</td><td>350.8</td></tr><tr><td>Maryland</td><td>223.1</td></tr><tr><td>Alabama</td><td>143.025</td></tr><tr><td>Arizona</td><td>192.1</td></tr><tr><td>Iowa</td><td>133.15</td></tr><tr><td>Massachusetts</td><td>261.8</td></tr><tr><td>Kentucky</td><td>141.14999999999998</td></tr><tr><td>Louisiana</td><td>164.39999999999998</td></tr><tr><td>Mississippi</td><td>154.1</td></tr><tr><td>New Hampshire</td><td>237.4</td></tr><tr><td>Tennessee</td><td>152.825</td></tr><tr><td>Florida</td><td>178.77777777777777</td></tr><tr><td>Indiana</td><td>122.75</td></tr><tr><td>Idaho</td><td>178.7</td></tr><tr><td>South Carolina</td><td>null</td></tr><tr><td>South Dakota</td><td>159.5</td></tr><tr><td>California</td><td>547.9714285714286</td></tr><tr><td>New York</td><td>185.775</td></tr><tr><td>Wisconsin</td><td>210.8</td></tr><tr><td>Colorado</td><td>333.46666666666664</td></tr></tbody></table></div>"
      ]
     },
     "metadata": {
      "application/vnd.databricks.v1+output": {
       "addedWidgets": {},
       "aggData": [],
       "aggError": "",
       "aggOverflow": false,
       "aggSchema": [],
       "aggSeriesLimitReached": false,
       "aggType": "",
       "arguments": {},
       "columnCustomDisplayInfos": {},
       "data": [
        [
         "Utah",
         243.3
        ],
        [
         "Hawai'i",
         699.3
        ],
        [
         "Minnesota",
         209.4
        ],
        [
         "Ohio",
         112.86666666666667
        ],
        [
         "Arkansas",
         131.8
        ],
        [
         "Oregon",
         231.53333333333333
        ],
        [
         "Texas",
         173.4777777777778
        ],
        [
         "North Dakota",
         180.0
        ],
        [
         "Pennsylvania",
         183.8
        ],
        [
         "Connecticut",
         250.13333333333333
        ],
        [
         "Nebraska",
         149.14999999999998
        ],
        [
         "Nevada",
         237.3
        ],
        [
         "Washington",
         266.29999999999995
        ],
        [
         "Illinois",
         122.87499999999999
        ],
        [
         "Oklahoma",
         145.1
        ],
        [
         "District of Columbia",
         367.8
        ],
        [
         "Alaska",
         null
        ],
        [
         "New Mexico",
         172.2
        ],
        [
         "Missouri",
         134.75
        ],
        [
         "Rhode Island",
         233.3
        ],
        [
         "Georgia",
         158.0
        ],
        [
         "Montana",
         null
        ],
        [
         "Michigan",
         114.6
        ],
        [
         "Virginia",
         201.25
        ],
        [
         "North Carolina",
         176.05714285714288
        ],
        [
         "Kansas",
         115.65
        ],
        [
         "New Jersey",
         350.8
        ],
        [
         "Maryland",
         223.1
        ],
        [
         "Alabama",
         143.025
        ],
        [
         "Arizona",
         192.1
        ],
        [
         "Iowa",
         133.15
        ],
        [
         "Massachusetts",
         261.8
        ],
        [
         "Kentucky",
         141.14999999999998
        ],
        [
         "Louisiana",
         164.39999999999998
        ],
        [
         "Mississippi",
         154.1
        ],
        [
         "New Hampshire",
         237.4
        ],
        [
         "Tennessee",
         152.825
        ],
        [
         "Florida",
         178.77777777777777
        ],
        [
         "Indiana",
         122.75
        ],
        [
         "Idaho",
         178.7
        ],
        [
         "South Carolina",
         null
        ],
        [
         "South Dakota",
         159.5
        ],
        [
         "California",
         547.9714285714286
        ],
        [
         "New York",
         185.775
        ],
        [
         "Wisconsin",
         210.8
        ],
        [
         "Colorado",
         333.46666666666664
        ]
       ],
       "datasetInfos": [],
       "dbfsResultPath": null,
       "isJsonSchema": true,
       "metadata": {},
       "overflow": false,
       "plotOptions": {
        "customPlotOptions": {},
        "displayType": "table",
        "pivotAggregation": null,
        "pivotColumns": null,
        "xColumns": null,
        "yColumns": null
       },
       "removedWidgets": [],
       "schema": [
        {
         "metadata": "{}",
         "name": "State",
         "type": "\"string\""
        },
        {
         "metadata": "{}",
         "name": "Average Median Sales",
         "type": "\"double\""
        }
       ],
       "type": "table"
      }
     },
     "output_type": "display_data"
    }
   ],
   "source": [
    "from pyspark.sql.functions import avg  \n",
    "\n",
    "# Grouping by 'State' and calculating average median sales price  \n",
    "df_selected_avg = df_selected.groupBy('State').agg(avg('2015 median sales price').alias('Average Median Sales')) \n",
    "display(df_selected_avg)"
   ]
  },
  {
   "cell_type": "code",
   "execution_count": 0,
   "metadata": {
    "application/vnd.databricks.v1+cell": {
     "cellMetadata": {
      "byteLimit": 2048000,
      "rowLimit": 10000
     },
     "inputWidgets": {},
     "nuid": "674a4bfc-7392-4ed7-8323-9d5a9124234e",
     "showTitle": false,
     "tableResultSettingsMap": {},
     "title": ""
    }
   },
   "outputs": [
    {
     "output_type": "stream",
     "name": "stdout",
     "output_type": "stream",
     "text": [
      "+--------------------+------------------+\n|               State|  Avg Median Price|\n+--------------------+------------------+\n|             Hawai'i|             699.3|\n|          California| 547.9714285714286|\n|District of Columbia|             367.8|\n|          New Jersey|             350.8|\n|            Colorado|333.46666666666664|\n|          Washington|266.29999999999995|\n|       Massachusetts|             261.8|\n|         Connecticut|250.13333333333333|\n|                Utah|             243.3|\n|       New Hampshire|             237.4|\n+--------------------+------------------+\nonly showing top 10 rows\n\n"
     ]
    }
   ],
   "source": [
    "from pyspark.sql.functions import avg  \n",
    "\n",
    "df_selected.groupBy(\"State\").agg(  \n",
    "    avg(\"2015 median sales price\").alias(\"Avg Median Price\")  \n",
    ").orderBy(\"Avg Median Price\", ascending=False).show(10)  "
   ]
  },
  {
   "cell_type": "markdown",
   "metadata": {
    "application/vnd.databricks.v1+cell": {
     "cellMetadata": {
      "byteLimit": 2048000,
      "rowLimit": 10000
     },
     "inputWidgets": {},
     "nuid": "cc496841-5d78-4a7a-8d71-5e14f9a1d361",
     "showTitle": false,
     "tableResultSettingsMap": {},
     "title": ""
    }
   },
   "source": [
    "# Scenario 3: Filter Cities with population greater than 1 Million"
   ]
  },
  {
   "cell_type": "code",
   "execution_count": 0,
   "metadata": {
    "application/vnd.databricks.v1+cell": {
     "cellMetadata": {
      "byteLimit": 2048000,
      "rowLimit": 10000
     },
     "inputWidgets": {},
     "nuid": "8012599d-e013-49e5-9e9c-c26a9b58d82f",
     "showTitle": false,
     "tableResultSettingsMap": {},
     "title": ""
    }
   },
   "outputs": [
    {
     "output_type": "stream",
     "name": "stdout",
     "output_type": "stream",
     "text": [
      "+-------------+----------+----------+------------------------+-----------------------+\n|         City|     State|State Code|2014 Population estimate|2015 median sales price|\n+-------------+----------+----------+------------------------+-----------------------+\n|   Birmingham|   Alabama|        AL|                  212247|                  162.9|\n|   Huntsville|   Alabama|        AL|                  188226|                  157.7|\n|       Mobile|   Alabama|        AL|                  194675|                  122.5|\n|   Montgomery|   Alabama|        AL|                  200481|                  129.0|\n|Anchorage[19]|    Alaska|        AK|                  301010|                   null|\n|     Chandler|   Arizona|        AZ|                  254276|                   null|\n|  Gilbert[20]|   Arizona|        AZ|                  239277|                   null|\n|     Glendale|   Arizona|        AZ|                  237517|                   null|\n|         Mesa|   Arizona|        AZ|                  464704|                   null|\n|       Peoria|   Arizona|        AZ|                  166934|                   null|\n|      Phoenix|   Arizona|        AZ|                 1537058|                  206.1|\n|   Scottsdale|   Arizona|        AZ|                  230512|                   null|\n|     Surprise|   Arizona|        AZ|                  126275|                   null|\n|        Tempe|   Arizona|        AZ|                  172816|                   null|\n|       Tucson|   Arizona|        AZ|                  527972|                  178.1|\n|  Little Rock|  Arkansas|        AR|                  197706|                  131.8|\n|      Anaheim|California|        CA|                  346997|                  685.7|\n|      Antioch|California|        CA|                  108930|                   null|\n|  Bakersfield|California|        CA|                  368759|                   null|\n|     Berkeley|California|        CA|                  118853|                   null|\n+-------------+----------+----------+------------------------+-----------------------+\nonly showing top 20 rows\n\n"
     ]
    }
   ],
   "source": [
    "df_selected.filter(df_selected[\"2014 Population estimate\"] > 100000).show()"
   ]
  },
  {
   "cell_type": "markdown",
   "metadata": {
    "application/vnd.databricks.v1+cell": {
     "cellMetadata": {
      "byteLimit": 2048000,
      "rowLimit": 10000
     },
     "inputWidgets": {},
     "nuid": "7429e28d-9c98-4e5d-bb5f-63e182eeb4ce",
     "showTitle": false,
     "tableResultSettingsMap": {},
     "title": ""
    }
   },
   "source": [
    "# Scenario 4: Identify cities with missing or zero price values"
   ]
  },
  {
   "cell_type": "code",
   "execution_count": 0,
   "metadata": {
    "application/vnd.databricks.v1+cell": {
     "cellMetadata": {
      "byteLimit": 2048000,
      "rowLimit": 10000
     },
     "inputWidgets": {},
     "nuid": "3d29d976-0806-4674-9a97-8c76d4ed2934",
     "showTitle": false,
     "tableResultSettingsMap": {},
     "title": ""
    }
   },
   "outputs": [],
   "source": []
  },
  {
   "cell_type": "code",
   "execution_count": 0,
   "metadata": {
    "application/vnd.databricks.v1+cell": {
     "cellMetadata": {
      "byteLimit": 2048000,
      "rowLimit": 10000
     },
     "inputWidgets": {},
     "nuid": "7f0e0ab2-e215-4f80-be8b-9cf418f7ebc7",
     "showTitle": false,
     "tableResultSettingsMap": {},
     "title": ""
    }
   },
   "outputs": [],
   "source": []
  }
 ],
 "metadata": {
  "application/vnd.databricks.v1+notebook": {
   "computePreferences": null,
   "dashboards": [],
   "environmentMetadata": {
    "base_environment": "",
    "environment_version": "1"
   },
   "inputWidgetPreferences": null,
   "language": "python",
   "notebookMetadata": {
    "pythonIndentUnit": 4
   },
   "notebookName": "4 PopulationPriceAnalysis 2025-04-24 10:24:00",
   "widgets": {}
  }
 },
 "nbformat": 4,
 "nbformat_minor": 0
}